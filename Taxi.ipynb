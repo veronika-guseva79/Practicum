{
 "cells": [
  {
   "cell_type": "markdown",
   "metadata": {
    "toc": true
   },
   "source": [
    "<h1>Содержание<span class=\"tocSkip\"></span></h1>\n",
    "<div class=\"toc\"><ul class=\"toc-item\"><li><span><a href=\"#Подготовка\" data-toc-modified-id=\"Подготовка-1\"><span class=\"toc-item-num\">1&nbsp;&nbsp;</span>Подготовка</a></span></li><li><span><a href=\"#Анализ\" data-toc-modified-id=\"Анализ-2\"><span class=\"toc-item-num\">2&nbsp;&nbsp;</span>Анализ</a></span></li><li><span><a href=\"#Обучение\" data-toc-modified-id=\"Обучение-3\"><span class=\"toc-item-num\">3&nbsp;&nbsp;</span>Обучение</a></span><ul class=\"toc-item\"><li><span><a href=\"#Обучение-модели-LightGBM\" data-toc-modified-id=\"Обучение-модели-LightGBM-3.1\"><span class=\"toc-item-num\">3.1&nbsp;&nbsp;</span>Обучение модели LightGBM</a></span></li><li><span><a href=\"#Обучение-моделей-LinearRegression-и-DecisionTreeRegressor\" data-toc-modified-id=\"Обучение-моделей-LinearRegression-и-DecisionTreeRegressor-3.2\"><span class=\"toc-item-num\">3.2&nbsp;&nbsp;</span>Обучение моделей LinearRegression и DecisionTreeRegressor</a></span></li></ul></li><li><span><a href=\"#Тестирование\" data-toc-modified-id=\"Тестирование-4\"><span class=\"toc-item-num\">4&nbsp;&nbsp;</span>Тестирование</a></span></li></ul></div>"
   ]
  },
  {
   "cell_type": "markdown",
   "metadata": {},
   "source": [
    "#  Прогнозирование заказов такси"
   ]
  },
  {
   "cell_type": "markdown",
   "metadata": {},
   "source": [
    "Описание проекта.\n",
    "Название проекта: Прогнозирование заказов такси.\n",
    "\n",
    "Описание исследования: Компания «Чётенькое такси» собрала исторические данные о заказах такси в аэропортах. Чтобы привлекать больше водителей в период пиковой нагрузки, нужно спрогнозировать количество заказов такси на следующий час.\n",
    "\n",
    "Цель исследования: Построить модель, умеющую делать такое предсказание. \n",
    "\n",
    "Критерии, которые важны заказчику:\n",
    "\n",
    "Значение метрики *RMSE* на тестовой выборке должно быть не больше 48.\n",
    "\n",
    "Задачи исследования:\n",
    "\n",
    "1. Загрузить данные и выполнить их ресемплирование по одному часу.\n",
    "2. Проанализировать данные.\n",
    "3. Обучить разные модели с различными гиперпараметрами. Сделать тестовую выборку размером 10% от исходных данных.\n",
    "4. Проверить данные на тестовой выборке и сделать выводы.\n",
    "\n",
    "Исходные данные: Таблица .csv с данными о количестве заказов, разбитые на 10-минутные интервалы.\n",
    "\n",
    "Данное исследование разделим на несколько частей.\n",
    "\n",
    "Часть 1. Изучение общей информации:\n",
    "\n",
    "Изучение файлов с данными, получение общей информации, загрузка библиотек.\n",
    "Приведение данных к нужному виду и типам.\n",
    "\n",
    "Часть 2. Подготовка данных:\n",
    "\n",
    "Нахождение и ликвидация пропусков.\n",
    "Проверка и ликвидация дубликатов.\n",
    "Исследовательский анализ данных - нахождение и исправление аномалий и ошибок.\n",
    "\n",
    "Часть 3. Обучение моделей:\n",
    "\n",
    "Обучение модели LightGBM.\n",
    "Обучение модели LinearRegression.\n",
    "Обучение модели DesicionTreeRegressor.\n",
    "\n",
    "Часть 4. Тестирование моделей и итоговые выводы"
   ]
  },
  {
   "cell_type": "markdown",
   "metadata": {},
   "source": [
    "## Подготовка"
   ]
  },
  {
   "cell_type": "code",
   "execution_count": 1,
   "metadata": {},
   "outputs": [],
   "source": [
    "pip install -q --upgrade scikit_learn"
   ]
  },
  {
   "cell_type": "code",
   "execution_count": 2,
   "metadata": {},
   "outputs": [],
   "source": [
    "import pandas as pd\n",
    "from math import sqrt\n",
    "import numpy as np\n",
    "import warnings\n",
    "import matplotlib.pyplot as plt\n",
    "import seaborn as sns\n",
    "from sklearn.model_selection import train_test_split\n",
    "from sklearn.linear_model import LinearRegression\n",
    "from sklearn.tree import DecisionTreeRegressor\n",
    "import lightgbm as lgb\n",
    "from sklearn.metrics import mean_squared_error\n",
    "from sklearn.model_selection import RandomizedSearchCV\n",
    "from sklearn.compose import ColumnTransformer\n",
    "from sklearn.preprocessing import OneHotEncoder, StandardScaler\n",
    "from sklearn.pipeline import Pipeline\n",
    "from statsmodels.tsa.stattools import adfuller"
   ]
  },
  {
   "cell_type": "code",
   "execution_count": 3,
   "metadata": {},
   "outputs": [],
   "source": [
    "RANDOM_STATE = 42\n",
    "TEST_SIZE = 0.10"
   ]
  },
  {
   "cell_type": "markdown",
   "metadata": {},
   "source": [
    "Зафиксировали тестовую часть выборки на уровне 10% в соответствии с инструкцией."
   ]
  },
  {
   "cell_type": "code",
   "execution_count": 4,
   "metadata": {},
   "outputs": [],
   "source": [
    "warnings.filterwarnings('ignore')"
   ]
  },
  {
   "cell_type": "code",
   "execution_count": 5,
   "metadata": {},
   "outputs": [
    {
     "data": {
      "text/html": [
       "<div>\n",
       "<style scoped>\n",
       "    .dataframe tbody tr th:only-of-type {\n",
       "        vertical-align: middle;\n",
       "    }\n",
       "\n",
       "    .dataframe tbody tr th {\n",
       "        vertical-align: top;\n",
       "    }\n",
       "\n",
       "    .dataframe thead th {\n",
       "        text-align: right;\n",
       "    }\n",
       "</style>\n",
       "<table border=\"1\" class=\"dataframe\">\n",
       "  <thead>\n",
       "    <tr style=\"text-align: right;\">\n",
       "      <th></th>\n",
       "      <th>datetime</th>\n",
       "      <th>num_orders</th>\n",
       "    </tr>\n",
       "  </thead>\n",
       "  <tbody>\n",
       "    <tr>\n",
       "      <th>0</th>\n",
       "      <td>2018-03-01 00:00:00</td>\n",
       "      <td>9</td>\n",
       "    </tr>\n",
       "    <tr>\n",
       "      <th>1</th>\n",
       "      <td>2018-03-01 00:10:00</td>\n",
       "      <td>14</td>\n",
       "    </tr>\n",
       "    <tr>\n",
       "      <th>2</th>\n",
       "      <td>2018-03-01 00:20:00</td>\n",
       "      <td>28</td>\n",
       "    </tr>\n",
       "    <tr>\n",
       "      <th>3</th>\n",
       "      <td>2018-03-01 00:30:00</td>\n",
       "      <td>20</td>\n",
       "    </tr>\n",
       "    <tr>\n",
       "      <th>4</th>\n",
       "      <td>2018-03-01 00:40:00</td>\n",
       "      <td>32</td>\n",
       "    </tr>\n",
       "    <tr>\n",
       "      <th>...</th>\n",
       "      <td>...</td>\n",
       "      <td>...</td>\n",
       "    </tr>\n",
       "    <tr>\n",
       "      <th>26491</th>\n",
       "      <td>2018-08-31 23:10:00</td>\n",
       "      <td>32</td>\n",
       "    </tr>\n",
       "    <tr>\n",
       "      <th>26492</th>\n",
       "      <td>2018-08-31 23:20:00</td>\n",
       "      <td>24</td>\n",
       "    </tr>\n",
       "    <tr>\n",
       "      <th>26493</th>\n",
       "      <td>2018-08-31 23:30:00</td>\n",
       "      <td>27</td>\n",
       "    </tr>\n",
       "    <tr>\n",
       "      <th>26494</th>\n",
       "      <td>2018-08-31 23:40:00</td>\n",
       "      <td>39</td>\n",
       "    </tr>\n",
       "    <tr>\n",
       "      <th>26495</th>\n",
       "      <td>2018-08-31 23:50:00</td>\n",
       "      <td>53</td>\n",
       "    </tr>\n",
       "  </tbody>\n",
       "</table>\n",
       "<p>26496 rows × 2 columns</p>\n",
       "</div>"
      ],
      "text/plain": [
       "                  datetime  num_orders\n",
       "0      2018-03-01 00:00:00           9\n",
       "1      2018-03-01 00:10:00          14\n",
       "2      2018-03-01 00:20:00          28\n",
       "3      2018-03-01 00:30:00          20\n",
       "4      2018-03-01 00:40:00          32\n",
       "...                    ...         ...\n",
       "26491  2018-08-31 23:10:00          32\n",
       "26492  2018-08-31 23:20:00          24\n",
       "26493  2018-08-31 23:30:00          27\n",
       "26494  2018-08-31 23:40:00          39\n",
       "26495  2018-08-31 23:50:00          53\n",
       "\n",
       "[26496 rows x 2 columns]"
      ]
     },
     "execution_count": 5,
     "metadata": {},
     "output_type": "execute_result"
    }
   ],
   "source": [
    "df = pd.read_csv('/datasets/taxi.csv')\n",
    "df"
   ]
  },
  {
   "cell_type": "markdown",
   "metadata": {},
   "source": [
    "Выяснили,что данные даны за период 6 месяцев: 01-03-2018 - 31-08-2018."
   ]
  },
  {
   "cell_type": "code",
   "execution_count": 6,
   "metadata": {},
   "outputs": [
    {
     "name": "stdout",
     "output_type": "stream",
     "text": [
      "<class 'pandas.core.frame.DataFrame'>\n",
      "RangeIndex: 26496 entries, 0 to 26495\n",
      "Data columns (total 2 columns):\n",
      " #   Column      Non-Null Count  Dtype \n",
      "---  ------      --------------  ----- \n",
      " 0   datetime    26496 non-null  object\n",
      " 1   num_orders  26496 non-null  int64 \n",
      "dtypes: int64(1), object(1)\n",
      "memory usage: 414.1+ KB\n"
     ]
    }
   ],
   "source": [
    "df.info()"
   ]
  },
  {
   "cell_type": "markdown",
   "metadata": {},
   "source": [
    "Данные содержат 2 колонки, тип данных первой не соответствует содержанию данных в ней - дате и времени. Данные не содержат пропусков."
   ]
  },
  {
   "cell_type": "code",
   "execution_count": 7,
   "metadata": {},
   "outputs": [
    {
     "data": {
      "text/plain": [
       "0"
      ]
     },
     "execution_count": 7,
     "metadata": {},
     "output_type": "execute_result"
    }
   ],
   "source": [
    "df.duplicated().sum()"
   ]
  },
  {
   "cell_type": "code",
   "execution_count": 8,
   "metadata": {},
   "outputs": [
    {
     "data": {
      "text/plain": [
       "0"
      ]
     },
     "execution_count": 8,
     "metadata": {},
     "output_type": "execute_result"
    }
   ],
   "source": [
    "df['datetime'].duplicated().sum()"
   ]
  },
  {
   "cell_type": "markdown",
   "metadata": {},
   "source": [
    "Данные не содержат полных дубликатов и дубликатов в колонке Datetime"
   ]
  },
  {
   "cell_type": "markdown",
   "metadata": {},
   "source": [
    "## Анализ"
   ]
  },
  {
   "cell_type": "code",
   "execution_count": 9,
   "metadata": {},
   "outputs": [
    {
     "data": {
      "text/plain": [
       "count    26496.000000\n",
       "mean        14.070463\n",
       "std          9.211330\n",
       "min          0.000000\n",
       "25%          8.000000\n",
       "50%         13.000000\n",
       "75%         19.000000\n",
       "max        119.000000\n",
       "Name: num_orders, dtype: float64"
      ]
     },
     "execution_count": 9,
     "metadata": {},
     "output_type": "execute_result"
    }
   ],
   "source": [
    "df['num_orders'].describe()"
   ]
  },
  {
   "cell_type": "code",
   "execution_count": 10,
   "metadata": {},
   "outputs": [
    {
     "data": {
      "image/png": "[encoded data removed]",
      "text/plain": [
       "<Figure size 1080x360 with 2 Axes>"
      ]
     },
     "metadata": {
      "needs_background": "light"
     },
     "output_type": "display_data"
    }
   ],
   "source": [
    "def stat(df):\n",
    "    fig, axes = plt.subplots(nrows=1, ncols=2, figsize=(15,5))\n",
    "    fig.suptitle('Анализ признака \"num_orders\"')\n",
    "    axes[0].hist(df);\n",
    "    axes[0].set_xlabel(\"Заказы\");\n",
    "    axes[0].set_title('Гистограмма распределения признака');\n",
    "    axes[1].boxplot(df);\n",
    "    axes[1].set_title('Диаграмма размаха признака');\n",
    "    axes[1].set_ylabel(\"Заказы\");\n",
    "stat(df['num_orders'])"
   ]
  },
  {
   "cell_type": "markdown",
   "metadata": {},
   "source": [
    "Распределение отдаленно напоминает нормальное со сдвигом влево и выбросами в большую сторону. Миниальное знаечение - 0, максимальное - 119. Медиана -14, среднее - 13, значит выбросы не критичны. Стандартное отклонение 9 - дисперсия данных небольшая.\n",
    "Приведем первую колонку к типу даты и назначим ее индексом. Проверим ряд на монотонность."
   ]
  },
  {
   "cell_type": "code",
   "execution_count": 11,
   "metadata": {},
   "outputs": [
    {
     "name": "stdout",
     "output_type": "stream",
     "text": [
      "True\n"
     ]
    }
   ],
   "source": [
    "df = pd.read_csv('/datasets/taxi.csv', parse_dates=[0], index_col = 0)\n",
    "print(df.index.is_monotonic)\n"
   ]
  },
  {
   "cell_type": "markdown",
   "metadata": {},
   "source": [
    "Ресемплируем данные по 1 часу, тк нам необходимо делать прогноз именно на следующий час."
   ]
  },
  {
   "cell_type": "code",
   "execution_count": 12,
   "metadata": {},
   "outputs": [
    {
     "data": {
      "text/html": [
       "<div>\n",
       "<style scoped>\n",
       "    .dataframe tbody tr th:only-of-type {\n",
       "        vertical-align: middle;\n",
       "    }\n",
       "\n",
       "    .dataframe tbody tr th {\n",
       "        vertical-align: top;\n",
       "    }\n",
       "\n",
       "    .dataframe thead th {\n",
       "        text-align: right;\n",
       "    }\n",
       "</style>\n",
       "<table border=\"1\" class=\"dataframe\">\n",
       "  <thead>\n",
       "    <tr style=\"text-align: right;\">\n",
       "      <th></th>\n",
       "      <th>num_orders</th>\n",
       "    </tr>\n",
       "    <tr>\n",
       "      <th>datetime</th>\n",
       "      <th></th>\n",
       "    </tr>\n",
       "  </thead>\n",
       "  <tbody>\n",
       "    <tr>\n",
       "      <th>2018-03-01 00:00:00</th>\n",
       "      <td>124</td>\n",
       "    </tr>\n",
       "    <tr>\n",
       "      <th>2018-03-01 01:00:00</th>\n",
       "      <td>85</td>\n",
       "    </tr>\n",
       "    <tr>\n",
       "      <th>2018-03-01 02:00:00</th>\n",
       "      <td>71</td>\n",
       "    </tr>\n",
       "    <tr>\n",
       "      <th>2018-03-01 03:00:00</th>\n",
       "      <td>66</td>\n",
       "    </tr>\n",
       "    <tr>\n",
       "      <th>2018-03-01 04:00:00</th>\n",
       "      <td>43</td>\n",
       "    </tr>\n",
       "    <tr>\n",
       "      <th>...</th>\n",
       "      <td>...</td>\n",
       "    </tr>\n",
       "    <tr>\n",
       "      <th>2018-08-31 19:00:00</th>\n",
       "      <td>136</td>\n",
       "    </tr>\n",
       "    <tr>\n",
       "      <th>2018-08-31 20:00:00</th>\n",
       "      <td>154</td>\n",
       "    </tr>\n",
       "    <tr>\n",
       "      <th>2018-08-31 21:00:00</th>\n",
       "      <td>159</td>\n",
       "    </tr>\n",
       "    <tr>\n",
       "      <th>2018-08-31 22:00:00</th>\n",
       "      <td>223</td>\n",
       "    </tr>\n",
       "    <tr>\n",
       "      <th>2018-08-31 23:00:00</th>\n",
       "      <td>205</td>\n",
       "    </tr>\n",
       "  </tbody>\n",
       "</table>\n",
       "<p>4416 rows × 1 columns</p>\n",
       "</div>"
      ],
      "text/plain": [
       "                     num_orders\n",
       "datetime                       \n",
       "2018-03-01 00:00:00         124\n",
       "2018-03-01 01:00:00          85\n",
       "2018-03-01 02:00:00          71\n",
       "2018-03-01 03:00:00          66\n",
       "2018-03-01 04:00:00          43\n",
       "...                         ...\n",
       "2018-08-31 19:00:00         136\n",
       "2018-08-31 20:00:00         154\n",
       "2018-08-31 21:00:00         159\n",
       "2018-08-31 22:00:00         223\n",
       "2018-08-31 23:00:00         205\n",
       "\n",
       "[4416 rows x 1 columns]"
      ]
     },
     "execution_count": 12,
     "metadata": {},
     "output_type": "execute_result"
    }
   ],
   "source": [
    "#df.sort_index(inplace=True)\n",
    "df = df.resample('1H').sum()\n",
    "df"
   ]
  },
  {
   "cell_type": "code",
   "execution_count": 13,
   "metadata": {},
   "outputs": [
    {
     "data": {
      "image/png": "[encoded data removed]",
      "text/plain": [
       "<Figure size 1368x432 with 1 Axes>"
      ]
     },
     "metadata": {
      "needs_background": "light"
     },
     "output_type": "display_data"
    }
   ],
   "source": [
    "df['num_orders'].plot(figsize = (19,6));\n",
    "plt.title('Анализ временного ряда');\n",
    "plt.ylabel(\"Заказы\");\n",
    "plt.xlabel(\"Месяц\");\n",
    "\n"
   ]
  },
  {
   "cell_type": "markdown",
   "metadata": {},
   "source": [
    "Виден возрастающий тренд летом - видимо, связанный с сезоном отпусков и большие выбросы в августе. Рассмотрим август отдельно."
   ]
  },
  {
   "cell_type": "code",
   "execution_count": 14,
   "metadata": {},
   "outputs": [],
   "source": [
    "df_aug=df['2018-08-01': '2018-08-31']"
   ]
  },
  {
   "cell_type": "code",
   "execution_count": 15,
   "metadata": {},
   "outputs": [
    {
     "data": {
      "image/png": "[encoded data removed]",
      "text/plain": [
       "<Figure size 1368x432 with 1 Axes>"
      ]
     },
     "metadata": {
      "needs_background": "light"
     },
     "output_type": "display_data"
    }
   ],
   "source": [
    "df_aug['num_orders'].plot(figsize = (19,6));\n",
    "plt.title('Анализ месячной сезонности в августе');\n",
    "plt.ylabel(\"Заказы\");\n",
    "plt.xlabel(\"Дата\");\n"
   ]
  },
  {
   "cell_type": "code",
   "execution_count": 16,
   "metadata": {},
   "outputs": [
    {
     "name": "stdout",
     "output_type": "stream",
     "text": [
      "[0] DatetimeIndex(['2018-08-13 02:00:00'], dtype='datetime64[ns]', name='datetime', freq='H')\n",
      "[0] DatetimeIndex(['2018-08-20 02:00:00'], dtype='datetime64[ns]', name='datetime', freq='H')\n",
      "[0] DatetimeIndex(['2018-08-27 02:00:00'], dtype='datetime64[ns]', name='datetime', freq='H')\n"
     ]
    }
   ],
   "source": [
    "df_aug['dayofweek'] = df_aug.index.dayofweek\n",
    "df_aug['day'] = df_aug.index.day\n",
    "print(df_aug.query('day==13')['dayofweek'].unique(), df_aug.query('day==13 and num_orders>400').index)\n",
    "print(df_aug.query('day==20')['dayofweek'].unique(), df_aug.query('day==20 and num_orders>400').index)\n",
    "print(df_aug.query('day==27')['dayofweek'].unique(), df_aug.query('day==27 and num_orders>400').index)"
   ]
  },
  {
   "cell_type": "markdown",
   "metadata": {},
   "source": [
    "Итак, выбросы в августе просходят по воскресеньям около 2 часов ночи - может быть связано с тем, что прилетает какой-то большой рейс. Не будем их удалять.\n"
   ]
  },
  {
   "cell_type": "code",
   "execution_count": 17,
   "metadata": {},
   "outputs": [
    {
     "data": {
      "image/png": "[encoded data removed]",
      "text/plain": [
       "<Figure size 1368x432 with 1 Axes>"
      ]
     },
     "metadata": {
      "needs_background": "light"
     },
     "output_type": "display_data"
    }
   ],
   "source": [
    "df_week=df['2018-08-21': '2018-08-27']\n",
    "df_week['num_orders'].plot(figsize = (19,6));\n",
    "plt.title('Анализ недельной сезонности');\n",
    "plt.ylabel(\"Заказы\");\n",
    "plt.xlabel(\"Дата\");"
   ]
  },
  {
   "cell_type": "markdown",
   "metadata": {},
   "source": [
    "Анализ недельной сезонности  последней недели августа показывает примероно одиковый тренд в течение первой половины недели и увелиение количества заказов в weekend."
   ]
  },
  {
   "cell_type": "code",
   "execution_count": 18,
   "metadata": {},
   "outputs": [
    {
     "data": {
      "image/png": "[encoded data removed]",
      "text/plain": [
       "<Figure size 1368x432 with 1 Axes>"
      ]
     },
     "metadata": {
      "needs_background": "light"
     },
     "output_type": "display_data"
    }
   ],
   "source": [
    "df_day=df['2018-08-22']\n",
    "df_day['num_orders'].plot(figsize = (19,6));\n",
    "plt.title('Анализ суточной сезонности - рабочий день');\n",
    "plt.ylabel(\"Заказы\");\n",
    "plt.xlabel(\"Время\");"
   ]
  },
  {
   "cell_type": "code",
   "execution_count": 19,
   "metadata": {},
   "outputs": [
    {
     "data": {
      "image/png": "[encoded data removed]",
      "text/plain": [
       "<Figure size 1368x432 with 1 Axes>"
      ]
     },
     "metadata": {
      "needs_background": "light"
     },
     "output_type": "display_data"
    }
   ],
   "source": [
    "df_day=df['2018-08-27']\n",
    "df_day['num_orders'].plot(figsize = (19,6));\n",
    "plt.title('Анализ суточной сезонности - воскресенье');\n",
    "plt.ylabel(\"Заказы\");\n",
    "plt.xlabel(\"Время\");"
   ]
  },
  {
   "cell_type": "markdown",
   "metadata": {},
   "source": [
    "Анализ суточной сезонности показывет, что есть спад количества заказов в утренние часы - видимо, аэропор не работает в это время, далее в течение дня тренд достаточно ровный (особено в выходной день, в будний  видимо скачки спроса зависят от прилета рейсов) и наастает ночью."
   ]
  },
  {
   "cell_type": "markdown",
   "metadata": {},
   "source": [
    "Проведем тест Дики-Фуллера на стационарность временного ряда."
   ]
  },
  {
   "cell_type": "code",
   "execution_count": 20,
   "metadata": {},
   "outputs": [
    {
     "name": "stdout",
     "output_type": "stream",
     "text": [
      "ADF Test:\n",
      "ADF Statistic: -3.0689242890279558\n",
      "p-value: 0.028940051402612906\n",
      "Critical Values:\n",
      "   1%: -3.431842162413052\n",
      "   5%: -2.8621993540813637\n",
      "   10%: -2.567120978470452\n"
     ]
    }
   ],
   "source": [
    "result_adf = adfuller(df['num_orders'])\n",
    "print('ADF Test:')\n",
    "print(f'ADF Statistic: {result_adf[0]}')\n",
    "print(f'p-value: {result_adf[1]}')\n",
    "print(f'Critical Values:')\n",
    "for key, value in result_adf[4].items():\n",
    "    print(f'   {key}: {value}')"
   ]
  },
  {
   "cell_type": "markdown",
   "metadata": {},
   "source": [
    "Поскольку значение p-value (0.029) значительно меньше 0.05, мы можем отвергнуть\n",
    "нулевую гипотезу H₀ о наличии единичного корня. Это означает, что временной ряд\n",
    "является стационарным по результатам ADF-теста."
   ]
  },
  {
   "cell_type": "markdown",
   "metadata": {},
   "source": [
    "## Обучение"
   ]
  },
  {
   "cell_type": "markdown",
   "metadata": {},
   "source": [
    "На предыдущем этапе анализы мы выявили зависимоть количества заказов от дня недели и времени суток, поэтому  добавим данные  признаки в наш датасет.Напишем функцию для добавления следующих признаков в датасет: день недели, час, отстающие значения, скользящее среднее - от всех этих параметров может зависеть предсказание модели. "
   ]
  },
  {
   "cell_type": "code",
   "execution_count": 21,
   "metadata": {},
   "outputs": [],
   "source": [
    "def make_features(df, max_lag, rolling_mean_size):\n",
    " \n",
    "    df['dayofweek'] = df.index.dayofweek\n",
    "    df['hour'] = df.index.hour\n",
    "    \n",
    "    for lag in range(1, max_lag + 1):\n",
    "        df['lag_{}'.format(lag)] = df['num_orders'].shift(lag)\n",
    "\n",
    "    df['rolling_mean'] = df['num_orders'].shift().rolling(rolling_mean_size).mean()"
   ]
  },
  {
   "cell_type": "markdown",
   "metadata": {},
   "source": [
    "Вызовем функцию с аргументами 168 для отстающих значений (это равно 7 дням недели * 24 часа), тк важно учитывать тренд за последнюю неделю - так мы учтем и текущий месячный, и недельный тренд, и скользящим средним с окном 24 (часа)). Затем удалим строки с пропусками.\n"
   ]
  },
  {
   "cell_type": "code",
   "execution_count": 22,
   "metadata": {},
   "outputs": [],
   "source": [
    "make_features(df,168,24)\n",
    "df=df.dropna()"
   ]
  },
  {
   "cell_type": "code",
   "execution_count": 23,
   "metadata": {
    "scrolled": true
   },
   "outputs": [
    {
     "data": {
      "text/html": [
       "<div>\n",
       "<style scoped>\n",
       "    .dataframe tbody tr th:only-of-type {\n",
       "        vertical-align: middle;\n",
       "    }\n",
       "\n",
       "    .dataframe tbody tr th {\n",
       "        vertical-align: top;\n",
       "    }\n",
       "\n",
       "    .dataframe thead th {\n",
       "        text-align: right;\n",
       "    }\n",
       "</style>\n",
       "<table border=\"1\" class=\"dataframe\">\n",
       "  <thead>\n",
       "    <tr style=\"text-align: right;\">\n",
       "      <th></th>\n",
       "      <th>num_orders</th>\n",
       "      <th>dayofweek</th>\n",
       "      <th>hour</th>\n",
       "      <th>lag_1</th>\n",
       "      <th>lag_2</th>\n",
       "      <th>lag_3</th>\n",
       "      <th>lag_4</th>\n",
       "      <th>lag_5</th>\n",
       "      <th>lag_6</th>\n",
       "      <th>lag_7</th>\n",
       "      <th>...</th>\n",
       "      <th>lag_160</th>\n",
       "      <th>lag_161</th>\n",
       "      <th>lag_162</th>\n",
       "      <th>lag_163</th>\n",
       "      <th>lag_164</th>\n",
       "      <th>lag_165</th>\n",
       "      <th>lag_166</th>\n",
       "      <th>lag_167</th>\n",
       "      <th>lag_168</th>\n",
       "      <th>rolling_mean</th>\n",
       "    </tr>\n",
       "    <tr>\n",
       "      <th>datetime</th>\n",
       "      <th></th>\n",
       "      <th></th>\n",
       "      <th></th>\n",
       "      <th></th>\n",
       "      <th></th>\n",
       "      <th></th>\n",
       "      <th></th>\n",
       "      <th></th>\n",
       "      <th></th>\n",
       "      <th></th>\n",
       "      <th></th>\n",
       "      <th></th>\n",
       "      <th></th>\n",
       "      <th></th>\n",
       "      <th></th>\n",
       "      <th></th>\n",
       "      <th></th>\n",
       "      <th></th>\n",
       "      <th></th>\n",
       "      <th></th>\n",
       "      <th></th>\n",
       "    </tr>\n",
       "  </thead>\n",
       "  <tbody>\n",
       "    <tr>\n",
       "      <th>2018-03-08 00:00:00</th>\n",
       "      <td>143</td>\n",
       "      <td>3</td>\n",
       "      <td>0</td>\n",
       "      <td>94.0</td>\n",
       "      <td>127.0</td>\n",
       "      <td>108.0</td>\n",
       "      <td>76.0</td>\n",
       "      <td>50.0</td>\n",
       "      <td>99.0</td>\n",
       "      <td>48.0</td>\n",
       "      <td>...</td>\n",
       "      <td>34.0</td>\n",
       "      <td>15.0</td>\n",
       "      <td>12.0</td>\n",
       "      <td>6.0</td>\n",
       "      <td>43.0</td>\n",
       "      <td>66.0</td>\n",
       "      <td>71.0</td>\n",
       "      <td>85.0</td>\n",
       "      <td>124.0</td>\n",
       "      <td>60.041667</td>\n",
       "    </tr>\n",
       "    <tr>\n",
       "      <th>2018-03-08 01:00:00</th>\n",
       "      <td>78</td>\n",
       "      <td>3</td>\n",
       "      <td>1</td>\n",
       "      <td>143.0</td>\n",
       "      <td>94.0</td>\n",
       "      <td>127.0</td>\n",
       "      <td>108.0</td>\n",
       "      <td>76.0</td>\n",
       "      <td>50.0</td>\n",
       "      <td>99.0</td>\n",
       "      <td>...</td>\n",
       "      <td>69.0</td>\n",
       "      <td>34.0</td>\n",
       "      <td>15.0</td>\n",
       "      <td>12.0</td>\n",
       "      <td>6.0</td>\n",
       "      <td>43.0</td>\n",
       "      <td>66.0</td>\n",
       "      <td>71.0</td>\n",
       "      <td>85.0</td>\n",
       "      <td>61.833333</td>\n",
       "    </tr>\n",
       "    <tr>\n",
       "      <th>2018-03-08 02:00:00</th>\n",
       "      <td>65</td>\n",
       "      <td>3</td>\n",
       "      <td>2</td>\n",
       "      <td>78.0</td>\n",
       "      <td>143.0</td>\n",
       "      <td>94.0</td>\n",
       "      <td>127.0</td>\n",
       "      <td>108.0</td>\n",
       "      <td>76.0</td>\n",
       "      <td>50.0</td>\n",
       "      <td>...</td>\n",
       "      <td>64.0</td>\n",
       "      <td>69.0</td>\n",
       "      <td>34.0</td>\n",
       "      <td>15.0</td>\n",
       "      <td>12.0</td>\n",
       "      <td>6.0</td>\n",
       "      <td>43.0</td>\n",
       "      <td>66.0</td>\n",
       "      <td>71.0</td>\n",
       "      <td>60.041667</td>\n",
       "    </tr>\n",
       "    <tr>\n",
       "      <th>2018-03-08 03:00:00</th>\n",
       "      <td>68</td>\n",
       "      <td>3</td>\n",
       "      <td>3</td>\n",
       "      <td>65.0</td>\n",
       "      <td>78.0</td>\n",
       "      <td>143.0</td>\n",
       "      <td>94.0</td>\n",
       "      <td>127.0</td>\n",
       "      <td>108.0</td>\n",
       "      <td>76.0</td>\n",
       "      <td>...</td>\n",
       "      <td>96.0</td>\n",
       "      <td>64.0</td>\n",
       "      <td>69.0</td>\n",
       "      <td>34.0</td>\n",
       "      <td>15.0</td>\n",
       "      <td>12.0</td>\n",
       "      <td>6.0</td>\n",
       "      <td>43.0</td>\n",
       "      <td>66.0</td>\n",
       "      <td>61.750000</td>\n",
       "    </tr>\n",
       "    <tr>\n",
       "      <th>2018-03-08 04:00:00</th>\n",
       "      <td>60</td>\n",
       "      <td>3</td>\n",
       "      <td>4</td>\n",
       "      <td>68.0</td>\n",
       "      <td>65.0</td>\n",
       "      <td>78.0</td>\n",
       "      <td>143.0</td>\n",
       "      <td>94.0</td>\n",
       "      <td>127.0</td>\n",
       "      <td>108.0</td>\n",
       "      <td>...</td>\n",
       "      <td>30.0</td>\n",
       "      <td>96.0</td>\n",
       "      <td>64.0</td>\n",
       "      <td>69.0</td>\n",
       "      <td>34.0</td>\n",
       "      <td>15.0</td>\n",
       "      <td>12.0</td>\n",
       "      <td>6.0</td>\n",
       "      <td>43.0</td>\n",
       "      <td>61.833333</td>\n",
       "    </tr>\n",
       "  </tbody>\n",
       "</table>\n",
       "<p>5 rows × 172 columns</p>\n",
       "</div>"
      ],
      "text/plain": [
       "                     num_orders  dayofweek  hour  lag_1  lag_2  lag_3  lag_4  \\\n",
       "datetime                                                                       \n",
       "2018-03-08 00:00:00         143          3     0   94.0  127.0  108.0   76.0   \n",
       "2018-03-08 01:00:00          78          3     1  143.0   94.0  127.0  108.0   \n",
       "2018-03-08 02:00:00          65          3     2   78.0  143.0   94.0  127.0   \n",
       "2018-03-08 03:00:00          68          3     3   65.0   78.0  143.0   94.0   \n",
       "2018-03-08 04:00:00          60          3     4   68.0   65.0   78.0  143.0   \n",
       "\n",
       "                     lag_5  lag_6  lag_7  ...  lag_160  lag_161  lag_162  \\\n",
       "datetime                                  ...                              \n",
       "2018-03-08 00:00:00   50.0   99.0   48.0  ...     34.0     15.0     12.0   \n",
       "2018-03-08 01:00:00   76.0   50.0   99.0  ...     69.0     34.0     15.0   \n",
       "2018-03-08 02:00:00  108.0   76.0   50.0  ...     64.0     69.0     34.0   \n",
       "2018-03-08 03:00:00  127.0  108.0   76.0  ...     96.0     64.0     69.0   \n",
       "2018-03-08 04:00:00   94.0  127.0  108.0  ...     30.0     96.0     64.0   \n",
       "\n",
       "                     lag_163  lag_164  lag_165  lag_166  lag_167  lag_168  \\\n",
       "datetime                                                                    \n",
       "2018-03-08 00:00:00      6.0     43.0     66.0     71.0     85.0    124.0   \n",
       "2018-03-08 01:00:00     12.0      6.0     43.0     66.0     71.0     85.0   \n",
       "2018-03-08 02:00:00     15.0     12.0      6.0     43.0     66.0     71.0   \n",
       "2018-03-08 03:00:00     34.0     15.0     12.0      6.0     43.0     66.0   \n",
       "2018-03-08 04:00:00     69.0     34.0     15.0     12.0      6.0     43.0   \n",
       "\n",
       "                     rolling_mean  \n",
       "datetime                           \n",
       "2018-03-08 00:00:00     60.041667  \n",
       "2018-03-08 01:00:00     61.833333  \n",
       "2018-03-08 02:00:00     60.041667  \n",
       "2018-03-08 03:00:00     61.750000  \n",
       "2018-03-08 04:00:00     61.833333  \n",
       "\n",
       "[5 rows x 172 columns]"
      ]
     },
     "execution_count": 23,
     "metadata": {},
     "output_type": "execute_result"
    }
   ],
   "source": [
    "df.head()"
   ]
  },
  {
   "cell_type": "markdown",
   "metadata": {},
   "source": []
  },
  {
   "cell_type": "code",
   "execution_count": 24,
   "metadata": {},
   "outputs": [
    {
     "name": "stdout",
     "output_type": "stream",
     "text": [
      "<class 'pandas.core.frame.DataFrame'>\n",
      "DatetimeIndex: 4248 entries, 2018-03-08 00:00:00 to 2018-08-31 23:00:00\n",
      "Freq: H\n",
      "Columns: 172 entries, num_orders to rolling_mean\n",
      "dtypes: float64(169), int64(3)\n",
      "memory usage: 5.6 MB\n"
     ]
    }
   ],
   "source": [
    "df.info()"
   ]
  },
  {
   "cell_type": "markdown",
   "metadata": {},
   "source": [
    "### Обучение модели LightGBM"
   ]
  },
  {
   "cell_type": "markdown",
   "metadata": {},
   "source": [
    "Разделим датасет на обучающую и тестовую выборки, выделим целевой признак - количество заказов."
   ]
  },
  {
   "cell_type": "code",
   "execution_count": 25,
   "metadata": {},
   "outputs": [],
   "source": [
    "X_train_lgbm, X_test_lgbm, y_train_lgbm, y_test_lgbm = train_test_split(\n",
    "    df.drop(['num_orders'], axis=1),\n",
    "    df['num_orders'],\n",
    "    test_size = TEST_SIZE, \n",
    "    shuffle=False,\n",
    "    random_state = RANDOM_STATE\n",
    "   )\n",
    "#X_test"
   ]
  },
  {
   "cell_type": "code",
   "execution_count": 26,
   "metadata": {},
   "outputs": [],
   "source": [
    "lgbm_model = lgb.LGBMRegressor(n_estimators=100, max_depth=3, learning_rate=0.1, metric= 'rmse', \n",
    "                              random_state=RANDOM_STATE)"
   ]
  },
  {
   "cell_type": "markdown",
   "metadata": {},
   "source": [
    "В качестве гиперпараметров зададим количество шагов бустинга и глубину дерева."
   ]
  },
  {
   "cell_type": "code",
   "execution_count": 27,
   "metadata": {},
   "outputs": [],
   "source": [
    "param_distributions = [\n",
    "          \n",
    "    { 'n_estimators': [100,300],\n",
    "      'max_depth': range(1,3)}\n",
    "    \n",
    "]"
   ]
  },
  {
   "cell_type": "code",
   "execution_count": 28,
   "metadata": {},
   "outputs": [],
   "source": [
    "randomized_search = RandomizedSearchCV(\n",
    "    lgbm_model, \n",
    "    param_distributions, \n",
    "    cv=5,\n",
    "    scoring='neg_root_mean_squared_error', \n",
    "    n_jobs=-1,\n",
    "    random_state=RANDOM_STATE\n",
    ")\n"
   ]
  },
  {
   "cell_type": "code",
   "execution_count": 29,
   "metadata": {},
   "outputs": [
    {
     "name": "stdout",
     "output_type": "stream",
     "text": [
      "Лучшая модель LGBM и её параметры:\n",
      "\n",
      " LGBMRegressor(max_depth=2, metric='rmse', random_state=42)\n"
     ]
    }
   ],
   "source": [
    "randomized_search.fit(X_train_lgbm, y_train_lgbm) \n",
    "print('Лучшая модель LGBM и её параметры:\\n\\n', randomized_search.best_estimator_)"
   ]
  },
  {
   "cell_type": "markdown",
   "metadata": {},
   "source": []
  },
  {
   "cell_type": "code",
   "execution_count": 30,
   "metadata": {},
   "outputs": [
    {
     "name": "stdout",
     "output_type": "stream",
     "text": [
      "Метрика лучшей модели LGBM на кросс-валидации: 21.49\n"
     ]
    }
   ],
   "source": [
    "lgbm_rmse=-round(randomized_search.best_score_,2)\n",
    "\n",
    "print ('Метрика лучшей модели LGBM на кросс-валидации:', lgbm_rmse)"
   ]
  },
  {
   "cell_type": "code",
   "execution_count": 31,
   "metadata": {},
   "outputs": [],
   "source": [
    "model_lgbm = randomized_search.best_estimator_"
   ]
  },
  {
   "cell_type": "markdown",
   "metadata": {},
   "source": [
    "Итак, лучшая LGBM модель имеет параметры LGBMRegressor(max_depth=2, metric='rmse', random_state=42) и метрику RMSE на кросс-валидации 21.49. Проверим качество других моделей."
   ]
  },
  {
   "cell_type": "markdown",
   "metadata": {},
   "source": [
    "### Обучение моделей LinearRegression и DecisionTreeRegressor"
   ]
  },
  {
   "cell_type": "markdown",
   "metadata": {},
   "source": [
    "Поменяем тип данных 'hour','dayofweek' на категориальные, чтобы не масштабировать остальные 170 столбцов относитьельно 3х."
   ]
  },
  {
   "cell_type": "code",
   "execution_count": 32,
   "metadata": {},
   "outputs": [],
   "source": [
    "df[['hour','dayofweek']]=df[['hour','dayofweek']].astype('object')"
   ]
  },
  {
   "cell_type": "code",
   "execution_count": 33,
   "metadata": {},
   "outputs": [
    {
     "name": "stdout",
     "output_type": "stream",
     "text": [
      "<class 'pandas.core.frame.DataFrame'>\n",
      "DatetimeIndex: 4248 entries, 2018-03-08 00:00:00 to 2018-08-31 23:00:00\n",
      "Freq: H\n",
      "Columns: 172 entries, num_orders to rolling_mean\n",
      "dtypes: float64(169), int64(1), object(2)\n",
      "memory usage: 5.6+ MB\n"
     ]
    }
   ],
   "source": [
    "df.info()"
   ]
  },
  {
   "cell_type": "markdown",
   "metadata": {},
   "source": [
    "Заново разделим датасет на обучающую и тестовую выборки, выделим целевой признак - количество заказов."
   ]
  },
  {
   "cell_type": "code",
   "execution_count": 34,
   "metadata": {},
   "outputs": [],
   "source": [
    "X_train, X_test, y_train, y_test = train_test_split(\n",
    "    df.drop(['num_orders'], axis=1),\n",
    "    df['num_orders'],\n",
    "    test_size = TEST_SIZE, \n",
    "    shuffle=False,\n",
    "    random_state = RANDOM_STATE\n",
    "   )"
   ]
  },
  {
   "cell_type": "code",
   "execution_count": 35,
   "metadata": {},
   "outputs": [],
   "source": [
    "ohe_columns = ['dayofweek', 'hour']"
   ]
  },
  {
   "cell_type": "code",
   "execution_count": 39,
   "metadata": {},
   "outputs": [],
   "source": [
    "ohe_pipe = Pipeline(\n",
    "    [\n",
    "    ('ohe', OneHotEncoder(drop='first', handle_unknown='ignore'))\n",
    "    ]\n",
    "    )"
   ]
  },
  {
   "cell_type": "code",
   "execution_count": null,
   "metadata": {},
   "outputs": [],
   "source": []
  },
  {
   "cell_type": "code",
   "execution_count": 40,
   "metadata": {},
   "outputs": [],
   "source": [
    "data_preprocessor = ColumnTransformer(\n",
    "    [('ohe', ohe_pipe, ohe_columns)\n",
    "   ], \n",
    "   remainder='passthrough'\n",
    ")"
   ]
  },
  {
   "cell_type": "code",
   "execution_count": 41,
   "metadata": {},
   "outputs": [],
   "source": [
    "pipe_final = Pipeline([\n",
    "    ('preprocessor', data_preprocessor),\n",
    "    ('models', LinearRegression())\n",
    "])"
   ]
  },
  {
   "cell_type": "code",
   "execution_count": 42,
   "metadata": {},
   "outputs": [],
   "source": [
    "param_distributions = [\n",
    "    \n",
    "    {\n",
    "        'models': [LinearRegression()],\n",
    "         \n",
    "        \n",
    "    },\n",
    "   \n",
    "    {\n",
    "        'models': [DecisionTreeRegressor(random_state=RANDOM_STATE)],\n",
    "        'models__max_depth': range(2, 15),\n",
    "        'models__min_samples_leaf': range(1, 6),\n",
    "        'models__min_samples_split': range(2, 6),\n",
    "        'models__max_features': range(2, 10),\n",
    "             \n",
    "    }\n",
    "    \n",
    "]"
   ]
  },
  {
   "cell_type": "code",
   "execution_count": 43,
   "metadata": {},
   "outputs": [],
   "source": [
    "randomized_search = RandomizedSearchCV(\n",
    "    pipe_final, \n",
    "    param_distributions, \n",
    "    cv=5,\n",
    "    scoring='neg_root_mean_squared_error', \n",
    "    n_jobs=-1,\n",
    "    random_state=RANDOM_STATE\n",
    ")"
   ]
  },
  {
   "cell_type": "code",
   "execution_count": 44,
   "metadata": {},
   "outputs": [
    {
     "name": "stdout",
     "output_type": "stream",
     "text": [
      "Лучшая модель и её параметры:\n",
      "\n",
      " Pipeline(steps=[('preprocessor',\n",
      "                 ColumnTransformer(remainder='passthrough',\n",
      "                                   transformers=[('ohe',\n",
      "                                                  Pipeline(steps=[('ohe',\n",
      "                                                                   OneHotEncoder(drop='first',\n",
      "                                                                                 handle_unknown='ignore'))]),\n",
      "                                                  ['dayofweek', 'hour'])])),\n",
      "                ('models',\n",
      "                 DecisionTreeRegressor(max_depth=8, max_features=8,\n",
      "                                       min_samples_leaf=4, min_samples_split=4,\n",
      "                                       random_state=42))])\n",
      "Метрика лучшей модели  на кросс-валидации: 29.64\n"
     ]
    }
   ],
   "source": [
    "randomized_search.fit(X_train, y_train) \n",
    "print('Лучшая модель и её параметры:\\n\\n', randomized_search.best_estimator_)\n",
    "rmse=-round(randomized_search.best_score_,2)\n",
    "print ('Метрика лучшей модели  на кросс-валидации:', rmse)"
   ]
  },
  {
   "cell_type": "markdown",
   "metadata": {},
   "source": [
    "Итак, лучшей моделью стала DecisionTreeRegressor с параметрами:\n",
    "DecisionTreeRegressor(max_depth=8, max_features=8, min_samples_leaf=4, min_samples_split=4,random_state=42) и метрикой RMSE на кросс-валидации 29.64. Что делает лучшей моделью LightGBM."
   ]
  },
  {
   "cell_type": "markdown",
   "metadata": {},
   "source": [
    "## Тестирование"
   ]
  },
  {
   "cell_type": "markdown",
   "metadata": {},
   "source": [
    "Протестируем лучшую модель на тестовой выборке."
   ]
  },
  {
   "cell_type": "code",
   "execution_count": 45,
   "metadata": {},
   "outputs": [
    {
     "name": "stdout",
     "output_type": "stream",
     "text": [
      "LightGBM RMSE на тестовой выборке: 38\n"
     ]
    }
   ],
   "source": [
    "lgbm_predictions = model_lgbm.predict(X_test_lgbm)\n",
    "lgbm_rmse = sqrt(mean_squared_error(y_test_lgbm, lgbm_predictions))\n",
    "print(f\"LightGBM RMSE на тестовой выборке: {lgbm_rmse:.0f}\")"
   ]
  },
  {
   "cell_type": "markdown",
   "metadata": {},
   "source": [
    "Итак, лучшая модель LGBM с параметрами LGBMRegressor(max_depth=2, metric='rmse', random_state=42) показала, хотя и хуже чем на кросс-валидации, приемлемый  (RMSE=<48) результат на тестовой выборке: RMSE=38."
   ]
  },
  {
   "cell_type": "code",
   "execution_count": 46,
   "metadata": {},
   "outputs": [
    {
     "data": {
      "image/png": "[encoded data removed]",
      "text/plain": [
       "<Figure size 1008x504 with 1 Axes>"
      ]
     },
     "metadata": {
      "needs_background": "light"
     },
     "output_type": "display_data"
    }
   ],
   "source": [
    "plt.figure(figsize=(14, 7))\n",
    "plt.plot(y_test.index,y_test_lgbm, label='Исходный ряд')\n",
    "plt.plot(y_test.index, lgbm_predictions, label='Предсказанный ряд', color='red')\n",
    "plt.title('Сравнение реальных и прогнозируемых значений')\n",
    "plt.xlabel('Дата')\n",
    "plt.ylabel('Заказы')\n",
    "plt.legend()\n",
    "plt.show()"
   ]
  },
  {
   "cell_type": "markdown",
   "metadata": {},
   "source": [
    "График сравнения реальных и прогнозируемых результатов на тестовой выборке показывет, что модель не очень хорощо справляется с прогнрзированием выбросов, но в остальном неплохо справляется с недельной и суточной сезонностью."
   ]
  },
  {
   "cell_type": "markdown",
   "metadata": {},
   "source": [
    "Общие выводы:\n",
    "Итак, был проведен анализ в соответсвии с целями и задачами исследования: была построена модель, прогнозирующая количество заказов такси на следующий час.\n",
    "\n",
    "На этапе подготовки данных были загружены необходимые библиотеки, данные были проверени на наличия пропусков и дубликатов (не обнаружено). \n",
    "\n",
    "На этапе анализа данных было выполнено ресемплироание по одному часу, изучены месячная, недельная и суточные сезонности, ряд был проверен на стационарность. Были изучены аномалии по воскресеньям в августе.\n",
    "\n",
    "На этапе обучения моделей были обучены 3 модели с помощью инструмента RandomSearch для перебора гиперпараметров c кросс-валидацией: LightGBM, LinearRegression и DecisionTreeRegresor. На кросс валидации лучшей  моделью стала LightGBM с параметрами LGBMRegressor(max_depth=2, random_state=42) - она показало лучшие результаты метрики RMSE на кросс-валидации по сравлению с моделями LinearRegression и DesisionTreeRegressor.\n",
    "\n",
    "Значение метрики *RMSE* на тестовой выборке не превысило 48 в соответствии с поставленной задачей: RMSE = 38.\n",
    "\n",
    "Данная модель поможет заказчику привлекать больше водителей в период пиковой нагрузки согласно прогнозу. \n",
    "\n",
    "    "
   ]
  }
 ],
 "metadata": {
  "ExecuteTimeLog": [
   {
    "duration": 48,
    "start_time": "2025-02-27T12:29:54.493Z"
   },
   {
    "duration": 1296,
    "start_time": "2025-02-27T12:30:19.601Z"
   },
   {
    "duration": 43,
    "start_time": "2025-02-27T12:30:21.618Z"
   },
   {
    "duration": 12,
    "start_time": "2025-02-27T12:31:01.595Z"
   },
   {
    "duration": 64,
    "start_time": "2025-02-27T12:31:21.781Z"
   },
   {
    "duration": 13,
    "start_time": "2025-02-27T12:31:29.804Z"
   },
   {
    "duration": 9,
    "start_time": "2025-02-27T12:32:12.635Z"
   },
   {
    "duration": 41,
    "start_time": "2025-02-27T12:34:03.825Z"
   },
   {
    "duration": 11,
    "start_time": "2025-02-27T12:34:12.413Z"
   },
   {
    "duration": 41,
    "start_time": "2025-02-27T12:34:55.532Z"
   },
   {
    "duration": 10,
    "start_time": "2025-02-27T12:34:59.583Z"
   },
   {
    "duration": 8,
    "start_time": "2025-02-27T12:35:02.392Z"
   },
   {
    "duration": 5,
    "start_time": "2025-02-27T12:35:03.470Z"
   },
   {
    "duration": 9,
    "start_time": "2025-02-27T12:35:36.500Z"
   },
   {
    "duration": 10,
    "start_time": "2025-02-27T12:36:39.756Z"
   },
   {
    "duration": 80,
    "start_time": "2025-02-27T12:37:23.377Z"
   },
   {
    "duration": 567,
    "start_time": "2025-02-27T12:37:30.906Z"
   },
   {
    "duration": 77,
    "start_time": "2025-02-27T12:38:19.721Z"
   },
   {
    "duration": 290,
    "start_time": "2025-02-27T12:38:36.250Z"
   },
   {
    "duration": 14,
    "start_time": "2025-02-27T12:43:06.253Z"
   },
   {
    "duration": 12,
    "start_time": "2025-02-27T12:43:19.872Z"
   },
   {
    "duration": 180,
    "start_time": "2025-02-27T12:56:31.649Z"
   },
   {
    "duration": 127,
    "start_time": "2025-02-27T12:56:56.298Z"
   },
   {
    "duration": 3,
    "start_time": "2025-02-27T12:57:10.207Z"
   },
   {
    "duration": 11,
    "start_time": "2025-02-27T12:57:25.899Z"
   },
   {
    "duration": 147,
    "start_time": "2025-02-27T12:57:48.603Z"
   },
   {
    "duration": 11,
    "start_time": "2025-02-27T12:57:49.638Z"
   },
   {
    "duration": 125,
    "start_time": "2025-02-27T12:58:20.802Z"
   },
   {
    "duration": 10,
    "start_time": "2025-02-27T12:58:22.306Z"
   },
   {
    "duration": 11,
    "start_time": "2025-02-27T12:58:58.878Z"
   },
   {
    "duration": 122,
    "start_time": "2025-02-27T12:59:29.393Z"
   },
   {
    "duration": 32,
    "start_time": "2025-02-27T12:59:30.352Z"
   },
   {
    "duration": 244,
    "start_time": "2025-02-27T13:00:42.711Z"
   },
   {
    "duration": 12,
    "start_time": "2025-02-27T13:00:43.891Z"
   },
   {
    "duration": 36,
    "start_time": "2025-02-27T13:01:29.185Z"
   },
   {
    "duration": 4,
    "start_time": "2025-02-27T13:07:36.722Z"
   },
   {
    "duration": 9,
    "start_time": "2025-02-27T13:07:39.267Z"
   },
   {
    "duration": 12,
    "start_time": "2025-02-27T13:07:59.707Z"
   },
   {
    "duration": 101,
    "start_time": "2025-02-27T13:10:15.743Z"
   },
   {
    "duration": 4,
    "start_time": "2025-02-27T13:10:26.624Z"
   },
   {
    "duration": 309,
    "start_time": "2025-02-27T13:10:49.592Z"
   },
   {
    "duration": 4,
    "start_time": "2025-02-27T13:10:53.895Z"
   },
   {
    "duration": 26,
    "start_time": "2025-02-27T13:10:55.965Z"
   },
   {
    "duration": 4,
    "start_time": "2025-02-27T13:11:16.964Z"
   },
   {
    "duration": 12,
    "start_time": "2025-02-27T13:11:20.200Z"
   },
   {
    "duration": 3,
    "start_time": "2025-02-27T13:11:30.390Z"
   },
   {
    "duration": 1633,
    "start_time": "2025-02-27T13:11:41.165Z"
   },
   {
    "duration": 0,
    "start_time": "2025-02-27T13:11:42.799Z"
   },
   {
    "duration": 0,
    "start_time": "2025-02-27T13:11:42.800Z"
   },
   {
    "duration": 0,
    "start_time": "2025-02-27T13:11:42.801Z"
   },
   {
    "duration": 0,
    "start_time": "2025-02-27T13:11:42.802Z"
   },
   {
    "duration": 0,
    "start_time": "2025-02-27T13:11:42.803Z"
   },
   {
    "duration": 0,
    "start_time": "2025-02-27T13:11:42.804Z"
   },
   {
    "duration": 0,
    "start_time": "2025-02-27T13:11:42.805Z"
   },
   {
    "duration": 0,
    "start_time": "2025-02-27T13:11:42.806Z"
   },
   {
    "duration": 0,
    "start_time": "2025-02-27T13:11:42.807Z"
   },
   {
    "duration": 0,
    "start_time": "2025-02-27T13:11:42.808Z"
   },
   {
    "duration": 4,
    "start_time": "2025-02-27T13:11:59.327Z"
   },
   {
    "duration": 1424,
    "start_time": "2025-02-27T13:12:03.950Z"
   },
   {
    "duration": 53,
    "start_time": "2025-02-27T13:12:05.376Z"
   },
   {
    "duration": 11,
    "start_time": "2025-02-27T13:12:05.431Z"
   },
   {
    "duration": 75,
    "start_time": "2025-02-27T13:12:05.445Z"
   },
   {
    "duration": 70,
    "start_time": "2025-02-27T13:12:05.521Z"
   },
   {
    "duration": 26,
    "start_time": "2025-02-27T13:12:05.593Z"
   },
   {
    "duration": 269,
    "start_time": "2025-02-27T13:12:05.621Z"
   },
   {
    "duration": 60,
    "start_time": "2025-02-27T13:12:05.892Z"
   },
   {
    "duration": 14,
    "start_time": "2025-02-27T13:12:05.953Z"
   },
   {
    "duration": 62,
    "start_time": "2025-02-27T13:12:05.970Z"
   },
   {
    "duration": 86,
    "start_time": "2025-02-27T13:12:06.033Z"
   },
   {
    "duration": 16,
    "start_time": "2025-02-27T13:12:44.850Z"
   },
   {
    "duration": 13,
    "start_time": "2025-02-27T13:12:57.977Z"
   },
   {
    "duration": 2,
    "start_time": "2025-02-27T13:13:23.371Z"
   },
   {
    "duration": 12,
    "start_time": "2025-02-27T13:13:25.734Z"
   },
   {
    "duration": 12,
    "start_time": "2025-02-27T13:13:34.159Z"
   },
   {
    "duration": 1461,
    "start_time": "2025-02-27T13:13:39.959Z"
   },
   {
    "duration": 3,
    "start_time": "2025-02-27T13:13:41.422Z"
   },
   {
    "duration": 54,
    "start_time": "2025-02-27T13:13:41.426Z"
   },
   {
    "duration": 12,
    "start_time": "2025-02-27T13:13:41.482Z"
   },
   {
    "duration": 12,
    "start_time": "2025-02-27T13:13:41.496Z"
   },
   {
    "duration": 9,
    "start_time": "2025-02-27T13:13:41.509Z"
   },
   {
    "duration": 24,
    "start_time": "2025-02-27T13:13:41.520Z"
   },
   {
    "duration": 243,
    "start_time": "2025-02-27T13:13:41.546Z"
   },
   {
    "duration": 72,
    "start_time": "2025-02-27T13:13:41.790Z"
   },
   {
    "duration": 15,
    "start_time": "2025-02-27T13:13:41.863Z"
   },
   {
    "duration": 12,
    "start_time": "2025-02-27T13:13:41.880Z"
   },
   {
    "duration": 36,
    "start_time": "2025-02-27T13:13:41.894Z"
   },
   {
    "duration": 18,
    "start_time": "2025-02-27T13:13:41.931Z"
   },
   {
    "duration": 3,
    "start_time": "2025-02-27T13:17:07.104Z"
   },
   {
    "duration": 108,
    "start_time": "2025-02-27T13:17:36.140Z"
   },
   {
    "duration": 104,
    "start_time": "2025-02-27T13:17:47.660Z"
   },
   {
    "duration": 8,
    "start_time": "2025-02-27T13:17:54.869Z"
   },
   {
    "duration": 8,
    "start_time": "2025-02-27T13:21:06.224Z"
   },
   {
    "duration": 3,
    "start_time": "2025-02-27T13:21:07.152Z"
   },
   {
    "duration": 2,
    "start_time": "2025-02-27T13:21:08.882Z"
   },
   {
    "duration": 3,
    "start_time": "2025-02-27T13:21:10.976Z"
   },
   {
    "duration": 5064,
    "start_time": "2025-02-27T13:21:13.313Z"
   },
   {
    "duration": 3,
    "start_time": "2025-02-27T13:21:51.108Z"
   },
   {
    "duration": 10,
    "start_time": "2025-02-27T13:23:25.581Z"
   },
   {
    "duration": 14,
    "start_time": "2025-02-27T13:24:06.967Z"
   },
   {
    "duration": 14,
    "start_time": "2025-02-27T13:25:06.194Z"
   },
   {
    "duration": 5,
    "start_time": "2025-02-27T13:25:27.573Z"
   },
   {
    "duration": 14,
    "start_time": "2025-02-27T13:25:34.654Z"
   },
   {
    "duration": 15,
    "start_time": "2025-02-27T13:26:56.573Z"
   },
   {
    "duration": 17,
    "start_time": "2025-02-27T13:27:20.156Z"
   },
   {
    "duration": 17,
    "start_time": "2025-02-27T13:27:24.565Z"
   },
   {
    "duration": 97,
    "start_time": "2025-02-27T13:28:34.725Z"
   },
   {
    "duration": 3,
    "start_time": "2025-02-27T13:28:43.407Z"
   },
   {
    "duration": 7,
    "start_time": "2025-02-27T13:28:50.863Z"
   },
   {
    "duration": 10,
    "start_time": "2025-02-27T13:28:58.226Z"
   },
   {
    "duration": 1369,
    "start_time": "2025-02-27T13:33:04.774Z"
   },
   {
    "duration": 2,
    "start_time": "2025-02-27T13:33:06.145Z"
   },
   {
    "duration": 48,
    "start_time": "2025-02-27T13:33:06.152Z"
   },
   {
    "duration": 101,
    "start_time": "2025-02-27T13:33:06.202Z"
   },
   {
    "duration": 12,
    "start_time": "2025-02-27T13:33:06.304Z"
   },
   {
    "duration": 92,
    "start_time": "2025-02-27T13:33:06.317Z"
   },
   {
    "duration": 36,
    "start_time": "2025-02-27T13:33:06.411Z"
   },
   {
    "duration": 66,
    "start_time": "2025-02-27T13:33:06.449Z"
   },
   {
    "duration": 264,
    "start_time": "2025-02-27T13:33:06.516Z"
   },
   {
    "duration": 69,
    "start_time": "2025-02-27T13:33:06.781Z"
   },
   {
    "duration": 14,
    "start_time": "2025-02-27T13:33:06.851Z"
   },
   {
    "duration": 8,
    "start_time": "2025-02-27T13:33:06.867Z"
   },
   {
    "duration": 23,
    "start_time": "2025-02-27T13:33:06.877Z"
   },
   {
    "duration": 36,
    "start_time": "2025-02-27T13:33:06.902Z"
   },
   {
    "duration": 42,
    "start_time": "2025-02-27T13:33:06.939Z"
   },
   {
    "duration": 27,
    "start_time": "2025-02-27T13:33:06.982Z"
   },
   {
    "duration": 52,
    "start_time": "2025-02-27T13:33:07.010Z"
   },
   {
    "duration": 9,
    "start_time": "2025-02-27T13:33:07.064Z"
   },
   {
    "duration": 5397,
    "start_time": "2025-02-27T13:33:07.074Z"
   },
   {
    "duration": 4,
    "start_time": "2025-02-27T13:33:12.472Z"
   },
   {
    "duration": 27,
    "start_time": "2025-02-27T13:33:12.477Z"
   },
   {
    "duration": 467,
    "start_time": "2025-02-27T13:34:27.603Z"
   },
   {
    "duration": 1413,
    "start_time": "2025-02-27T13:34:49.643Z"
   },
   {
    "duration": 3,
    "start_time": "2025-02-27T13:34:51.058Z"
   },
   {
    "duration": 26,
    "start_time": "2025-02-27T13:34:51.062Z"
   },
   {
    "duration": 72,
    "start_time": "2025-02-27T13:34:51.091Z"
   },
   {
    "duration": 11,
    "start_time": "2025-02-27T13:34:51.164Z"
   },
   {
    "duration": 40,
    "start_time": "2025-02-27T13:34:51.177Z"
   },
   {
    "duration": 70,
    "start_time": "2025-02-27T13:34:51.219Z"
   },
   {
    "duration": 32,
    "start_time": "2025-02-27T13:34:51.291Z"
   },
   {
    "duration": 294,
    "start_time": "2025-02-27T13:34:51.325Z"
   },
   {
    "duration": 76,
    "start_time": "2025-02-27T13:34:51.622Z"
   },
   {
    "duration": 14,
    "start_time": "2025-02-27T13:34:51.700Z"
   },
   {
    "duration": 130,
    "start_time": "2025-02-27T13:34:51.715Z"
   },
   {
    "duration": 0,
    "start_time": "2025-02-27T13:34:51.847Z"
   },
   {
    "duration": 0,
    "start_time": "2025-02-27T13:34:51.848Z"
   },
   {
    "duration": 0,
    "start_time": "2025-02-27T13:34:51.849Z"
   },
   {
    "duration": 0,
    "start_time": "2025-02-27T13:34:51.850Z"
   },
   {
    "duration": 0,
    "start_time": "2025-02-27T13:34:51.851Z"
   },
   {
    "duration": 0,
    "start_time": "2025-02-27T13:34:51.852Z"
   },
   {
    "duration": 0,
    "start_time": "2025-02-27T13:34:51.853Z"
   },
   {
    "duration": 0,
    "start_time": "2025-02-27T13:34:51.854Z"
   },
   {
    "duration": 0,
    "start_time": "2025-02-27T13:34:51.855Z"
   },
   {
    "duration": 0,
    "start_time": "2025-02-27T13:34:51.856Z"
   },
   {
    "duration": 179,
    "start_time": "2025-02-27T13:35:03.117Z"
   },
   {
    "duration": 326,
    "start_time": "2025-02-27T13:35:41.393Z"
   },
   {
    "duration": 20,
    "start_time": "2025-02-27T13:37:18.940Z"
   },
   {
    "duration": 1441,
    "start_time": "2025-02-27T13:37:27.414Z"
   },
   {
    "duration": 4,
    "start_time": "2025-02-27T13:37:28.856Z"
   },
   {
    "duration": 30,
    "start_time": "2025-02-27T13:37:28.862Z"
   },
   {
    "duration": 79,
    "start_time": "2025-02-27T13:37:28.894Z"
   },
   {
    "duration": 12,
    "start_time": "2025-02-27T13:37:28.975Z"
   },
   {
    "duration": 14,
    "start_time": "2025-02-27T13:37:28.988Z"
   },
   {
    "duration": 16,
    "start_time": "2025-02-27T13:37:29.004Z"
   },
   {
    "duration": 32,
    "start_time": "2025-02-27T13:37:29.021Z"
   },
   {
    "duration": 256,
    "start_time": "2025-02-27T13:37:29.056Z"
   },
   {
    "duration": 72,
    "start_time": "2025-02-27T13:37:29.314Z"
   },
   {
    "duration": 14,
    "start_time": "2025-02-27T13:37:29.387Z"
   },
   {
    "duration": 269,
    "start_time": "2025-02-27T13:37:29.402Z"
   },
   {
    "duration": 4,
    "start_time": "2025-02-27T13:37:29.672Z"
   },
   {
    "duration": 45,
    "start_time": "2025-02-27T13:37:29.678Z"
   },
   {
    "duration": 16,
    "start_time": "2025-02-27T13:37:29.725Z"
   },
   {
    "duration": 33,
    "start_time": "2025-02-27T13:37:29.742Z"
   },
   {
    "duration": 3,
    "start_time": "2025-02-27T13:37:29.776Z"
   },
   {
    "duration": 21,
    "start_time": "2025-02-27T13:37:29.780Z"
   },
   {
    "duration": 18,
    "start_time": "2025-02-27T13:37:29.803Z"
   },
   {
    "duration": 5060,
    "start_time": "2025-02-27T13:37:29.823Z"
   },
   {
    "duration": 88,
    "start_time": "2025-02-27T13:37:34.885Z"
   },
   {
    "duration": 39,
    "start_time": "2025-02-27T13:37:34.975Z"
   },
   {
    "duration": 210,
    "start_time": "2025-02-27T13:41:40.811Z"
   },
   {
    "duration": 308,
    "start_time": "2025-02-27T13:42:19.372Z"
   },
   {
    "duration": 234,
    "start_time": "2025-02-27T13:42:27.394Z"
   },
   {
    "duration": 218,
    "start_time": "2025-02-27T13:44:34.008Z"
   },
   {
    "duration": 216,
    "start_time": "2025-02-27T13:45:13.057Z"
   },
   {
    "duration": 346,
    "start_time": "2025-02-27T13:47:05.178Z"
   },
   {
    "duration": 5,
    "start_time": "2025-02-27T13:50:35.174Z"
   },
   {
    "duration": 1877,
    "start_time": "2025-02-27T13:50:52.438Z"
   },
   {
    "duration": 101,
    "start_time": "2025-02-27T13:53:18.794Z"
   },
   {
    "duration": 209,
    "start_time": "2025-02-27T13:54:11.697Z"
   },
   {
    "duration": 856,
    "start_time": "2025-02-27T13:55:45.769Z"
   },
   {
    "duration": 19,
    "start_time": "2025-02-27T13:58:52.887Z"
   },
   {
    "duration": 219,
    "start_time": "2025-02-27T13:59:08.993Z"
   },
   {
    "duration": 47,
    "start_time": "2025-02-27T13:59:54.507Z"
   },
   {
    "duration": 217,
    "start_time": "2025-02-27T14:00:00.575Z"
   },
   {
    "duration": 355,
    "start_time": "2025-02-27T14:00:42.266Z"
   },
   {
    "duration": 15,
    "start_time": "2025-02-27T14:01:35.422Z"
   },
   {
    "duration": 241,
    "start_time": "2025-02-27T14:01:45.685Z"
   },
   {
    "duration": 257,
    "start_time": "2025-02-27T14:02:04.799Z"
   },
   {
    "duration": 247,
    "start_time": "2025-02-27T14:02:10.478Z"
   },
   {
    "duration": 258,
    "start_time": "2025-02-27T14:02:51.093Z"
   },
   {
    "duration": 9,
    "start_time": "2025-02-27T14:09:49.319Z"
   },
   {
    "duration": 2,
    "start_time": "2025-02-27T14:09:54.900Z"
   },
   {
    "duration": 17,
    "start_time": "2025-02-27T14:09:58.664Z"
   },
   {
    "duration": 21,
    "start_time": "2025-02-27T14:11:33.593Z"
   },
   {
    "duration": 19,
    "start_time": "2025-02-27T14:11:36.092Z"
   },
   {
    "duration": 32,
    "start_time": "2025-02-27T14:12:18.645Z"
   },
   {
    "duration": 131,
    "start_time": "2025-02-27T14:13:38.727Z"
   },
   {
    "duration": 49,
    "start_time": "2025-02-27T14:13:46.568Z"
   },
   {
    "duration": 41,
    "start_time": "2025-02-27T14:23:05.309Z"
   },
   {
    "duration": 4,
    "start_time": "2025-02-27T14:23:25.083Z"
   },
   {
    "duration": 3,
    "start_time": "2025-02-27T14:23:26.087Z"
   },
   {
    "duration": 3,
    "start_time": "2025-02-27T14:23:27.283Z"
   },
   {
    "duration": 154806,
    "start_time": "2025-02-27T14:23:28.784Z"
   },
   {
    "duration": 37,
    "start_time": "2025-02-27T14:35:44.618Z"
   },
   {
    "duration": 2,
    "start_time": "2025-02-27T14:35:49.004Z"
   },
   {
    "duration": 3,
    "start_time": "2025-02-27T14:35:55.196Z"
   },
   {
    "duration": 3,
    "start_time": "2025-02-27T14:35:57.157Z"
   },
   {
    "duration": 117717,
    "start_time": "2025-02-27T14:36:03.064Z"
   },
   {
    "duration": 32,
    "start_time": "2025-02-27T14:40:34.703Z"
   },
   {
    "duration": 41,
    "start_time": "2025-02-27T14:40:41.772Z"
   },
   {
    "duration": 1471,
    "start_time": "2025-02-27T14:40:51.205Z"
   },
   {
    "duration": 5,
    "start_time": "2025-02-27T14:40:52.679Z"
   },
   {
    "duration": 32,
    "start_time": "2025-02-27T14:40:52.687Z"
   },
   {
    "duration": 79,
    "start_time": "2025-02-27T14:40:52.720Z"
   },
   {
    "duration": 12,
    "start_time": "2025-02-27T14:40:52.802Z"
   },
   {
    "duration": 30,
    "start_time": "2025-02-27T14:40:52.816Z"
   },
   {
    "duration": 14,
    "start_time": "2025-02-27T14:40:52.848Z"
   },
   {
    "duration": 24,
    "start_time": "2025-02-27T14:40:52.864Z"
   },
   {
    "duration": 262,
    "start_time": "2025-02-27T14:40:52.890Z"
   },
   {
    "duration": 128,
    "start_time": "2025-02-27T14:40:53.154Z"
   },
   {
    "duration": 16,
    "start_time": "2025-02-27T14:40:53.286Z"
   },
   {
    "duration": 296,
    "start_time": "2025-02-27T14:40:53.303Z"
   },
   {
    "duration": 8,
    "start_time": "2025-02-27T14:40:53.601Z"
   },
   {
    "duration": 293,
    "start_time": "2025-02-27T14:40:53.611Z"
   },
   {
    "duration": 7,
    "start_time": "2025-02-27T14:40:53.906Z"
   },
   {
    "duration": 26,
    "start_time": "2025-02-27T14:40:53.914Z"
   },
   {
    "duration": 18,
    "start_time": "2025-02-27T14:40:53.942Z"
   },
   {
    "duration": 222,
    "start_time": "2025-02-27T14:40:53.962Z"
   },
   {
    "duration": 39,
    "start_time": "2025-02-27T14:40:54.187Z"
   },
   {
    "duration": 128,
    "start_time": "2025-02-27T14:40:54.228Z"
   },
   {
    "duration": 0,
    "start_time": "2025-02-27T14:40:54.358Z"
   },
   {
    "duration": 0,
    "start_time": "2025-02-27T14:40:54.359Z"
   },
   {
    "duration": 0,
    "start_time": "2025-02-27T14:40:54.360Z"
   },
   {
    "duration": 0,
    "start_time": "2025-02-27T14:40:54.361Z"
   },
   {
    "duration": 0,
    "start_time": "2025-02-27T14:40:54.370Z"
   },
   {
    "duration": 0,
    "start_time": "2025-02-27T14:40:54.370Z"
   },
   {
    "duration": 37,
    "start_time": "2025-02-27T14:41:10.108Z"
   },
   {
    "duration": 3,
    "start_time": "2025-02-27T14:41:19.215Z"
   },
   {
    "duration": 2,
    "start_time": "2025-02-27T14:41:22.848Z"
   },
   {
    "duration": 3,
    "start_time": "2025-02-27T14:41:24.416Z"
   },
   {
    "duration": 133050,
    "start_time": "2025-02-27T14:41:31.123Z"
   },
   {
    "duration": 3,
    "start_time": "2025-02-27T14:43:56.390Z"
   },
   {
    "duration": 7,
    "start_time": "2025-02-27T14:44:34.029Z"
   },
   {
    "duration": 42,
    "start_time": "2025-02-27T16:26:24.159Z"
   },
   {
    "duration": 9,
    "start_time": "2025-02-27T16:58:03.335Z"
   },
   {
    "duration": 4,
    "start_time": "2025-02-27T17:21:29.859Z"
   },
   {
    "duration": 44,
    "start_time": "2025-02-27T17:21:33.570Z"
   },
   {
    "duration": 24,
    "start_time": "2025-02-27T17:21:58.079Z"
   },
   {
    "duration": 26,
    "start_time": "2025-02-27T17:21:59.445Z"
   },
   {
    "duration": 3,
    "start_time": "2025-02-27T17:22:02.583Z"
   },
   {
    "duration": 40,
    "start_time": "2025-02-27T17:22:05.478Z"
   },
   {
    "duration": 24,
    "start_time": "2025-02-27T17:22:06.451Z"
   },
   {
    "duration": 1344,
    "start_time": "2025-02-27T17:22:15.061Z"
   },
   {
    "duration": 2,
    "start_time": "2025-02-27T17:22:16.407Z"
   },
   {
    "duration": 16,
    "start_time": "2025-02-27T17:22:16.410Z"
   },
   {
    "duration": 75,
    "start_time": "2025-02-27T17:22:16.428Z"
   },
   {
    "duration": 10,
    "start_time": "2025-02-27T17:22:16.505Z"
   },
   {
    "duration": 13,
    "start_time": "2025-02-27T17:22:16.517Z"
   },
   {
    "duration": 8,
    "start_time": "2025-02-27T17:22:16.531Z"
   },
   {
    "duration": 33,
    "start_time": "2025-02-27T17:22:16.540Z"
   },
   {
    "duration": 222,
    "start_time": "2025-02-27T17:22:16.575Z"
   },
   {
    "duration": 112,
    "start_time": "2025-02-27T17:22:16.800Z"
   },
   {
    "duration": 13,
    "start_time": "2025-02-27T17:22:16.913Z"
   },
   {
    "duration": 225,
    "start_time": "2025-02-27T17:22:16.928Z"
   },
   {
    "duration": 17,
    "start_time": "2025-02-27T17:22:17.154Z"
   },
   {
    "duration": 224,
    "start_time": "2025-02-27T17:22:17.172Z"
   },
   {
    "duration": 7,
    "start_time": "2025-02-27T17:22:17.398Z"
   },
   {
    "duration": 13,
    "start_time": "2025-02-27T17:22:17.407Z"
   },
   {
    "duration": 4,
    "start_time": "2025-02-27T17:22:17.421Z"
   },
   {
    "duration": 209,
    "start_time": "2025-02-27T17:22:17.426Z"
   },
   {
    "duration": 42,
    "start_time": "2025-02-27T17:22:17.637Z"
   },
   {
    "duration": 13,
    "start_time": "2025-02-27T17:22:17.680Z"
   },
   {
    "duration": 22,
    "start_time": "2025-02-27T17:22:17.694Z"
   },
   {
    "duration": 25,
    "start_time": "2025-02-27T17:22:17.718Z"
   },
   {
    "duration": 14,
    "start_time": "2025-02-27T17:22:17.745Z"
   },
   {
    "duration": 20614,
    "start_time": "2025-02-27T17:22:17.760Z"
   },
   {
    "duration": 3,
    "start_time": "2025-02-27T17:22:38.376Z"
   },
   {
    "duration": 13,
    "start_time": "2025-02-27T17:22:38.380Z"
   },
   {
    "duration": 148,
    "start_time": "2025-02-27T17:22:38.395Z"
   },
   {
    "duration": 0,
    "start_time": "2025-02-27T17:22:38.546Z"
   },
   {
    "duration": 0,
    "start_time": "2025-02-27T17:22:38.547Z"
   },
   {
    "duration": 0,
    "start_time": "2025-02-27T17:22:38.549Z"
   },
   {
    "duration": 0,
    "start_time": "2025-02-27T17:22:38.550Z"
   },
   {
    "duration": 0,
    "start_time": "2025-02-27T17:22:38.551Z"
   },
   {
    "duration": 5,
    "start_time": "2025-02-27T17:31:24.304Z"
   },
   {
    "duration": 10,
    "start_time": "2025-02-27T17:31:54.752Z"
   },
   {
    "duration": 9,
    "start_time": "2025-02-27T17:32:48.281Z"
   },
   {
    "duration": 8,
    "start_time": "2025-02-27T17:32:49.854Z"
   },
   {
    "duration": 4,
    "start_time": "2025-02-27T17:33:01.246Z"
   },
   {
    "duration": 3,
    "start_time": "2025-02-27T17:33:06.781Z"
   },
   {
    "duration": 10,
    "start_time": "2025-02-27T17:33:08.956Z"
   },
   {
    "duration": 4,
    "start_time": "2025-02-27T17:33:30.785Z"
   },
   {
    "duration": 3,
    "start_time": "2025-02-27T17:33:35.137Z"
   },
   {
    "duration": 2,
    "start_time": "2025-02-27T17:33:40.269Z"
   },
   {
    "duration": 9,
    "start_time": "2025-02-27T17:33:52.263Z"
   },
   {
    "duration": 20,
    "start_time": "2025-02-27T17:34:11.415Z"
   },
   {
    "duration": 3,
    "start_time": "2025-02-27T17:34:16.444Z"
   },
   {
    "duration": 3,
    "start_time": "2025-02-27T17:34:20.441Z"
   },
   {
    "duration": 3,
    "start_time": "2025-02-27T17:35:27.347Z"
   },
   {
    "duration": 3,
    "start_time": "2025-02-27T17:35:47.321Z"
   },
   {
    "duration": 3,
    "start_time": "2025-02-27T17:35:50.637Z"
   },
   {
    "duration": 74,
    "start_time": "2025-02-27T17:35:53.907Z"
   },
   {
    "duration": 30,
    "start_time": "2025-02-27T17:36:05.629Z"
   },
   {
    "duration": 16,
    "start_time": "2025-02-27T17:40:41.355Z"
   },
   {
    "duration": 94,
    "start_time": "2025-02-27T17:47:38.717Z"
   },
   {
    "duration": 88,
    "start_time": "2025-02-27T17:47:47.617Z"
   },
   {
    "duration": 2,
    "start_time": "2025-02-27T17:47:53.630Z"
   },
   {
    "duration": 3,
    "start_time": "2025-02-27T17:47:55.456Z"
   },
   {
    "duration": 4,
    "start_time": "2025-02-27T17:48:17.089Z"
   },
   {
    "duration": 3,
    "start_time": "2025-02-27T17:48:18.837Z"
   },
   {
    "duration": 3,
    "start_time": "2025-02-27T17:48:20.985Z"
   },
   {
    "duration": 10805,
    "start_time": "2025-02-27T17:48:22.625Z"
   },
   {
    "duration": 8,
    "start_time": "2025-02-27T17:50:40.415Z"
   },
   {
    "duration": 2,
    "start_time": "2025-02-27T17:50:43.227Z"
   },
   {
    "duration": 2,
    "start_time": "2025-02-27T17:50:46.844Z"
   },
   {
    "duration": 3,
    "start_time": "2025-02-27T17:50:47.115Z"
   },
   {
    "duration": 4,
    "start_time": "2025-02-27T17:50:49.101Z"
   },
   {
    "duration": 2,
    "start_time": "2025-02-27T17:50:55.211Z"
   },
   {
    "duration": 26,
    "start_time": "2025-02-27T17:50:59.129Z"
   },
   {
    "duration": 8,
    "start_time": "2025-02-27T17:56:50.918Z"
   },
   {
    "duration": 25,
    "start_time": "2025-02-27T17:56:51.954Z"
   },
   {
    "duration": 4,
    "start_time": "2025-02-27T17:56:54.833Z"
   },
   {
    "duration": 9,
    "start_time": "2025-02-27T17:56:55.821Z"
   },
   {
    "duration": 32,
    "start_time": "2025-02-27T17:56:56.851Z"
   },
   {
    "duration": 87,
    "start_time": "2025-02-27T17:59:54.872Z"
   },
   {
    "duration": 4,
    "start_time": "2025-02-27T17:59:59.863Z"
   },
   {
    "duration": 16,
    "start_time": "2025-02-27T18:00:35.201Z"
   },
   {
    "duration": 5,
    "start_time": "2025-02-27T18:00:47.251Z"
   },
   {
    "duration": 5,
    "start_time": "2025-02-27T18:00:48.641Z"
   },
   {
    "duration": 16761,
    "start_time": "2025-02-27T18:03:15.159Z"
   },
   {
    "duration": 3,
    "start_time": "2025-02-27T18:04:13.099Z"
   },
   {
    "duration": 15,
    "start_time": "2025-02-27T18:04:14.158Z"
   },
   {
    "duration": 4,
    "start_time": "2025-02-27T18:04:44.022Z"
   },
   {
    "duration": 3,
    "start_time": "2025-02-27T18:05:02.932Z"
   },
   {
    "duration": 3,
    "start_time": "2025-02-27T18:05:04.749Z"
   },
   {
    "duration": 3,
    "start_time": "2025-02-27T18:05:06.944Z"
   },
   {
    "duration": 5,
    "start_time": "2025-02-27T18:05:09.404Z"
   },
   {
    "duration": 4,
    "start_time": "2025-02-27T18:05:48.285Z"
   },
   {
    "duration": 3,
    "start_time": "2025-02-27T18:05:51.226Z"
   },
   {
    "duration": 2,
    "start_time": "2025-02-27T18:05:56.209Z"
   },
   {
    "duration": 37,
    "start_time": "2025-02-27T18:05:57.675Z"
   },
   {
    "duration": 47,
    "start_time": "2025-02-27T18:07:12.374Z"
   },
   {
    "duration": 10,
    "start_time": "2025-02-27T18:07:28.448Z"
   },
   {
    "duration": 3,
    "start_time": "2025-02-27T18:11:19.079Z"
   },
   {
    "duration": 3,
    "start_time": "2025-02-27T18:11:20.401Z"
   },
   {
    "duration": 4,
    "start_time": "2025-02-27T18:11:21.473Z"
   },
   {
    "duration": 3,
    "start_time": "2025-02-27T18:11:23.431Z"
   },
   {
    "duration": 235,
    "start_time": "2025-02-27T18:11:25.215Z"
   },
   {
    "duration": 3,
    "start_time": "2025-02-27T18:11:59.898Z"
   },
   {
    "duration": 3,
    "start_time": "2025-02-27T18:12:02.153Z"
   },
   {
    "duration": 4,
    "start_time": "2025-02-27T18:12:03.174Z"
   },
   {
    "duration": 3,
    "start_time": "2025-02-27T18:12:04.947Z"
   },
   {
    "duration": 3,
    "start_time": "2025-02-27T18:12:07.288Z"
   },
   {
    "duration": 1187,
    "start_time": "2025-02-27T18:12:08.892Z"
   },
   {
    "duration": 4,
    "start_time": "2025-02-27T18:12:31.079Z"
   },
   {
    "duration": 3,
    "start_time": "2025-02-27T18:12:32.125Z"
   },
   {
    "duration": 3,
    "start_time": "2025-02-27T18:12:33.095Z"
   },
   {
    "duration": 3,
    "start_time": "2025-02-27T18:12:34.623Z"
   },
   {
    "duration": 4,
    "start_time": "2025-02-27T18:12:36.190Z"
   },
   {
    "duration": 255,
    "start_time": "2025-02-27T18:12:37.810Z"
   },
   {
    "duration": 5,
    "start_time": "2025-02-27T18:15:55.583Z"
   },
   {
    "duration": 13,
    "start_time": "2025-02-27T18:16:10.236Z"
   },
   {
    "duration": 6,
    "start_time": "2025-02-27T18:17:00.228Z"
   },
   {
    "duration": 6,
    "start_time": "2025-02-27T18:17:11.472Z"
   },
   {
    "duration": 6,
    "start_time": "2025-02-27T18:17:30.061Z"
   },
   {
    "duration": 7,
    "start_time": "2025-02-27T18:17:43.254Z"
   },
   {
    "duration": 3,
    "start_time": "2025-02-27T18:18:15.402Z"
   },
   {
    "duration": 9,
    "start_time": "2025-02-27T18:18:16.979Z"
   },
   {
    "duration": 12,
    "start_time": "2025-02-27T18:18:40.308Z"
   },
   {
    "duration": 12,
    "start_time": "2025-02-27T18:18:58.172Z"
   },
   {
    "duration": 5,
    "start_time": "2025-02-27T18:20:50.735Z"
   },
   {
    "duration": 14,
    "start_time": "2025-02-27T18:20:51.698Z"
   },
   {
    "duration": 8,
    "start_time": "2025-02-27T18:20:57.900Z"
   },
   {
    "duration": 3,
    "start_time": "2025-02-27T18:21:00.137Z"
   },
   {
    "duration": 6,
    "start_time": "2025-02-27T18:21:01.095Z"
   },
   {
    "duration": 7,
    "start_time": "2025-02-27T18:21:02.282Z"
   },
   {
    "duration": 3,
    "start_time": "2025-02-27T18:21:39.765Z"
   },
   {
    "duration": 3,
    "start_time": "2025-02-27T18:21:43.074Z"
   },
   {
    "duration": 3,
    "start_time": "2025-02-27T18:21:43.969Z"
   },
   {
    "duration": 3,
    "start_time": "2025-02-27T18:21:45.294Z"
   },
   {
    "duration": 3,
    "start_time": "2025-02-27T18:21:47.958Z"
   },
   {
    "duration": 257,
    "start_time": "2025-02-27T18:21:49.747Z"
   },
   {
    "duration": 10,
    "start_time": "2025-02-27T18:22:59.714Z"
   },
   {
    "duration": 13,
    "start_time": "2025-02-27T18:23:01.067Z"
   },
   {
    "duration": 9,
    "start_time": "2025-02-27T18:23:03.236Z"
   },
   {
    "duration": 3,
    "start_time": "2025-02-27T18:23:04.713Z"
   },
   {
    "duration": 8,
    "start_time": "2025-02-27T18:23:06.342Z"
   },
   {
    "duration": 7,
    "start_time": "2025-02-27T18:23:08.546Z"
   },
   {
    "duration": 7,
    "start_time": "2025-02-27T18:23:09.907Z"
   },
   {
    "duration": 9,
    "start_time": "2025-02-27T18:23:13.865Z"
   },
   {
    "duration": 3,
    "start_time": "2025-02-27T18:23:14.918Z"
   },
   {
    "duration": 9,
    "start_time": "2025-02-27T18:23:16.052Z"
   },
   {
    "duration": 10,
    "start_time": "2025-02-27T18:23:18.347Z"
   },
   {
    "duration": 2,
    "start_time": "2025-02-27T18:23:51.111Z"
   },
   {
    "duration": 8,
    "start_time": "2025-02-27T18:23:56.482Z"
   },
   {
    "duration": 7,
    "start_time": "2025-02-27T18:23:57.941Z"
   },
   {
    "duration": 7,
    "start_time": "2025-02-27T18:23:59.570Z"
   },
   {
    "duration": 3,
    "start_time": "2025-02-27T18:24:00.982Z"
   },
   {
    "duration": 2,
    "start_time": "2025-02-27T18:24:05.569Z"
   },
   {
    "duration": 3,
    "start_time": "2025-02-27T18:24:06.547Z"
   },
   {
    "duration": 3,
    "start_time": "2025-02-27T18:24:08.678Z"
   },
   {
    "duration": 3,
    "start_time": "2025-02-27T18:24:09.878Z"
   },
   {
    "duration": 3,
    "start_time": "2025-02-27T18:24:11.990Z"
   },
   {
    "duration": 244,
    "start_time": "2025-02-27T18:24:13.745Z"
   },
   {
    "duration": 2912,
    "start_time": "2025-02-27T18:25:42.098Z"
   },
   {
    "duration": 4,
    "start_time": "2025-02-27T18:25:52.063Z"
   },
   {
    "duration": 1315,
    "start_time": "2025-02-27T18:25:52.068Z"
   },
   {
    "duration": 3,
    "start_time": "2025-02-27T18:25:53.384Z"
   },
   {
    "duration": 6,
    "start_time": "2025-02-27T18:25:53.389Z"
   },
   {
    "duration": 55,
    "start_time": "2025-02-27T18:25:53.396Z"
   },
   {
    "duration": 12,
    "start_time": "2025-02-27T18:25:53.452Z"
   },
   {
    "duration": 16,
    "start_time": "2025-02-27T18:25:53.465Z"
   },
   {
    "duration": 8,
    "start_time": "2025-02-27T18:25:53.483Z"
   },
   {
    "duration": 8,
    "start_time": "2025-02-27T18:25:53.493Z"
   },
   {
    "duration": 243,
    "start_time": "2025-02-27T18:25:53.503Z"
   },
   {
    "duration": 141,
    "start_time": "2025-02-27T18:25:53.748Z"
   },
   {
    "duration": 14,
    "start_time": "2025-02-27T18:25:53.890Z"
   },
   {
    "duration": 245,
    "start_time": "2025-02-27T18:25:53.906Z"
   },
   {
    "duration": 18,
    "start_time": "2025-02-27T18:25:54.152Z"
   },
   {
    "duration": 309,
    "start_time": "2025-02-27T18:25:54.172Z"
   },
   {
    "duration": 8,
    "start_time": "2025-02-27T18:25:54.482Z"
   },
   {
    "duration": 28,
    "start_time": "2025-02-27T18:25:54.491Z"
   },
   {
    "duration": 16,
    "start_time": "2025-02-27T18:25:54.521Z"
   },
   {
    "duration": 128,
    "start_time": "2025-02-27T18:25:54.538Z"
   },
   {
    "duration": 39,
    "start_time": "2025-02-27T18:25:54.669Z"
   },
   {
    "duration": 12,
    "start_time": "2025-02-27T18:25:54.710Z"
   },
   {
    "duration": 47,
    "start_time": "2025-02-27T18:25:54.723Z"
   },
   {
    "duration": 12,
    "start_time": "2025-02-27T18:25:54.772Z"
   },
   {
    "duration": 28,
    "start_time": "2025-02-27T18:25:54.787Z"
   },
   {
    "duration": 15,
    "start_time": "2025-02-27T18:25:54.817Z"
   },
   {
    "duration": 21737,
    "start_time": "2025-02-27T18:25:54.834Z"
   },
   {
    "duration": 4,
    "start_time": "2025-02-27T18:26:16.573Z"
   },
   {
    "duration": 17,
    "start_time": "2025-02-27T18:26:16.579Z"
   },
   {
    "duration": 28,
    "start_time": "2025-02-27T18:26:16.598Z"
   },
   {
    "duration": 20,
    "start_time": "2025-02-27T18:26:16.628Z"
   },
   {
    "duration": 26,
    "start_time": "2025-02-27T18:26:16.650Z"
   },
   {
    "duration": 4,
    "start_time": "2025-02-27T18:26:16.678Z"
   },
   {
    "duration": 8,
    "start_time": "2025-02-27T18:26:16.684Z"
   },
   {
    "duration": 11,
    "start_time": "2025-02-27T18:26:16.694Z"
   },
   {
    "duration": 17,
    "start_time": "2025-02-27T18:26:16.706Z"
   },
   {
    "duration": 3,
    "start_time": "2025-02-27T18:26:16.724Z"
   },
   {
    "duration": 5,
    "start_time": "2025-02-27T18:26:16.728Z"
   },
   {
    "duration": 5,
    "start_time": "2025-02-27T18:26:16.734Z"
   },
   {
    "duration": 14,
    "start_time": "2025-02-27T18:26:16.740Z"
   },
   {
    "duration": 23,
    "start_time": "2025-02-27T18:26:16.755Z"
   },
   {
    "duration": 3,
    "start_time": "2025-02-27T18:26:16.780Z"
   },
   {
    "duration": 1481,
    "start_time": "2025-02-27T18:26:16.784Z"
   },
   {
    "duration": 11,
    "start_time": "2025-02-27T18:26:18.270Z"
   },
   {
    "duration": 3,
    "start_time": "2025-02-27T18:29:23.831Z"
   },
   {
    "duration": 1274,
    "start_time": "2025-02-27T18:29:23.836Z"
   },
   {
    "duration": 2,
    "start_time": "2025-02-27T18:29:25.111Z"
   },
   {
    "duration": 13,
    "start_time": "2025-02-27T18:29:25.115Z"
   },
   {
    "duration": 54,
    "start_time": "2025-02-27T18:29:25.129Z"
   },
   {
    "duration": 10,
    "start_time": "2025-02-27T18:29:25.185Z"
   },
   {
    "duration": 29,
    "start_time": "2025-02-27T18:29:25.197Z"
   },
   {
    "duration": 6,
    "start_time": "2025-02-27T18:29:25.228Z"
   },
   {
    "duration": 13,
    "start_time": "2025-02-27T18:29:25.236Z"
   },
   {
    "duration": 229,
    "start_time": "2025-02-27T18:29:25.250Z"
   },
   {
    "duration": 81,
    "start_time": "2025-02-27T18:29:25.481Z"
   },
   {
    "duration": 15,
    "start_time": "2025-02-27T18:29:25.563Z"
   },
   {
    "duration": 247,
    "start_time": "2025-02-27T18:29:25.579Z"
   },
   {
    "duration": 8,
    "start_time": "2025-02-27T18:29:25.827Z"
   },
   {
    "duration": 338,
    "start_time": "2025-02-27T18:29:25.836Z"
   },
   {
    "duration": 7,
    "start_time": "2025-02-27T18:29:26.176Z"
   },
   {
    "duration": 10,
    "start_time": "2025-02-27T18:29:26.185Z"
   },
   {
    "duration": 5,
    "start_time": "2025-02-27T18:29:26.197Z"
   },
   {
    "duration": 122,
    "start_time": "2025-02-27T18:29:26.204Z"
   },
   {
    "duration": 48,
    "start_time": "2025-02-27T18:29:26.327Z"
   },
   {
    "duration": 12,
    "start_time": "2025-02-27T18:29:26.376Z"
   },
   {
    "duration": 27,
    "start_time": "2025-02-27T18:29:26.390Z"
   },
   {
    "duration": 8,
    "start_time": "2025-02-27T18:29:26.419Z"
   },
   {
    "duration": 48,
    "start_time": "2025-02-27T18:29:26.430Z"
   },
   {
    "duration": 29,
    "start_time": "2025-02-27T18:29:26.479Z"
   },
   {
    "duration": 22970,
    "start_time": "2025-02-27T18:29:26.510Z"
   },
   {
    "duration": 3,
    "start_time": "2025-02-27T18:29:49.481Z"
   },
   {
    "duration": 85,
    "start_time": "2025-02-27T18:29:49.486Z"
   },
   {
    "duration": 31,
    "start_time": "2025-02-27T18:29:49.572Z"
   },
   {
    "duration": 34,
    "start_time": "2025-02-27T18:29:49.605Z"
   },
   {
    "duration": 18,
    "start_time": "2025-02-27T18:29:49.641Z"
   },
   {
    "duration": 12,
    "start_time": "2025-02-27T18:29:49.661Z"
   },
   {
    "duration": 10,
    "start_time": "2025-02-27T18:29:49.675Z"
   },
   {
    "duration": 7,
    "start_time": "2025-02-27T18:29:49.686Z"
   },
   {
    "duration": 7,
    "start_time": "2025-02-27T18:29:49.694Z"
   },
   {
    "duration": 30,
    "start_time": "2025-02-27T18:29:49.702Z"
   },
   {
    "duration": 4,
    "start_time": "2025-02-27T18:29:49.733Z"
   },
   {
    "duration": 8,
    "start_time": "2025-02-27T18:29:49.738Z"
   },
   {
    "duration": 23,
    "start_time": "2025-02-27T18:29:49.748Z"
   },
   {
    "duration": 6,
    "start_time": "2025-02-27T18:29:49.772Z"
   },
   {
    "duration": 4,
    "start_time": "2025-02-27T18:29:49.779Z"
   },
   {
    "duration": 1446,
    "start_time": "2025-02-27T18:29:49.784Z"
   },
   {
    "duration": 129,
    "start_time": "2025-02-27T18:29:51.231Z"
   },
   {
    "duration": 3,
    "start_time": "2025-02-27T18:32:39.015Z"
   },
   {
    "duration": 1193,
    "start_time": "2025-02-27T18:32:39.019Z"
   },
   {
    "duration": 2,
    "start_time": "2025-02-27T18:32:40.213Z"
   },
   {
    "duration": 37,
    "start_time": "2025-02-27T18:32:40.217Z"
   },
   {
    "duration": 49,
    "start_time": "2025-02-27T18:32:40.256Z"
   },
   {
    "duration": 10,
    "start_time": "2025-02-27T18:32:40.306Z"
   },
   {
    "duration": 19,
    "start_time": "2025-02-27T18:32:40.317Z"
   },
   {
    "duration": 25,
    "start_time": "2025-02-27T18:32:40.337Z"
   },
   {
    "duration": 18,
    "start_time": "2025-02-27T18:32:40.364Z"
   },
   {
    "duration": 242,
    "start_time": "2025-02-27T18:32:40.384Z"
   },
   {
    "duration": 123,
    "start_time": "2025-02-27T18:32:40.630Z"
   },
   {
    "duration": 14,
    "start_time": "2025-02-27T18:32:40.754Z"
   },
   {
    "duration": 255,
    "start_time": "2025-02-27T18:32:40.769Z"
   },
   {
    "duration": 7,
    "start_time": "2025-02-27T18:32:41.025Z"
   },
   {
    "duration": 317,
    "start_time": "2025-02-27T18:32:41.034Z"
   },
   {
    "duration": 6,
    "start_time": "2025-02-27T18:32:41.353Z"
   },
   {
    "duration": 19,
    "start_time": "2025-02-27T18:32:41.370Z"
   },
   {
    "duration": 14,
    "start_time": "2025-02-27T18:32:41.391Z"
   },
   {
    "duration": 135,
    "start_time": "2025-02-27T18:32:41.406Z"
   },
   {
    "duration": 37,
    "start_time": "2025-02-27T18:32:41.542Z"
   },
   {
    "duration": 13,
    "start_time": "2025-02-27T18:32:41.581Z"
   },
   {
    "duration": 48,
    "start_time": "2025-02-27T18:32:41.595Z"
   },
   {
    "duration": 9,
    "start_time": "2025-02-27T18:32:41.644Z"
   },
   {
    "duration": 25,
    "start_time": "2025-02-27T18:32:41.654Z"
   },
   {
    "duration": 21,
    "start_time": "2025-02-27T18:32:41.681Z"
   },
   {
    "duration": 23669,
    "start_time": "2025-02-27T18:32:41.703Z"
   },
   {
    "duration": 3,
    "start_time": "2025-02-27T18:33:05.374Z"
   },
   {
    "duration": 22,
    "start_time": "2025-02-27T18:33:05.379Z"
   },
   {
    "duration": 22,
    "start_time": "2025-02-27T18:33:05.404Z"
   },
   {
    "duration": 76,
    "start_time": "2025-02-27T18:33:05.427Z"
   },
   {
    "duration": 70,
    "start_time": "2025-02-27T18:33:05.505Z"
   },
   {
    "duration": 20,
    "start_time": "2025-02-27T18:33:05.576Z"
   },
   {
    "duration": 25,
    "start_time": "2025-02-27T18:33:05.598Z"
   },
   {
    "duration": 49,
    "start_time": "2025-02-27T18:33:05.624Z"
   },
   {
    "duration": 27,
    "start_time": "2025-02-27T18:33:05.675Z"
   },
   {
    "duration": 53,
    "start_time": "2025-02-27T18:33:05.704Z"
   },
   {
    "duration": 12,
    "start_time": "2025-02-27T18:33:05.759Z"
   },
   {
    "duration": 19,
    "start_time": "2025-02-27T18:33:05.772Z"
   },
   {
    "duration": 29,
    "start_time": "2025-02-27T18:33:05.792Z"
   },
   {
    "duration": 43,
    "start_time": "2025-02-27T18:33:05.822Z"
   },
   {
    "duration": 43,
    "start_time": "2025-02-27T18:33:05.867Z"
   },
   {
    "duration": 1492,
    "start_time": "2025-02-27T18:33:05.911Z"
   },
   {
    "duration": 67,
    "start_time": "2025-02-27T18:33:07.405Z"
   },
   {
    "duration": 38054,
    "start_time": "2025-02-28T16:56:05.573Z"
   },
   {
    "duration": 1406,
    "start_time": "2025-02-28T16:56:53.410Z"
   },
   {
    "duration": 3,
    "start_time": "2025-02-28T16:56:55.108Z"
   },
   {
    "duration": 3,
    "start_time": "2025-02-28T17:10:14.503Z"
   },
   {
    "duration": 1317,
    "start_time": "2025-02-28T17:10:14.508Z"
   },
   {
    "duration": 2,
    "start_time": "2025-02-28T17:10:15.827Z"
   },
   {
    "duration": 13,
    "start_time": "2025-02-28T17:10:15.830Z"
   },
   {
    "duration": 54,
    "start_time": "2025-02-28T17:10:15.845Z"
   },
   {
    "duration": 13,
    "start_time": "2025-02-28T17:10:15.900Z"
   },
   {
    "duration": 14,
    "start_time": "2025-02-28T17:10:15.915Z"
   },
   {
    "duration": 23,
    "start_time": "2025-02-28T17:10:15.931Z"
   },
   {
    "duration": 24,
    "start_time": "2025-02-28T17:10:15.956Z"
   },
   {
    "duration": 266,
    "start_time": "2025-02-28T17:10:15.982Z"
   },
   {
    "duration": 108,
    "start_time": "2025-02-28T17:10:16.249Z"
   },
   {
    "duration": 14,
    "start_time": "2025-02-28T17:10:16.358Z"
   },
   {
    "duration": 329,
    "start_time": "2025-02-28T17:10:16.374Z"
   },
   {
    "duration": 9,
    "start_time": "2025-02-28T17:10:16.705Z"
   },
   {
    "duration": 320,
    "start_time": "2025-02-28T17:10:16.716Z"
   },
   {
    "duration": 7,
    "start_time": "2025-02-28T17:10:17.038Z"
   },
   {
    "duration": 55,
    "start_time": "2025-02-28T17:10:17.047Z"
   },
   {
    "duration": 52,
    "start_time": "2025-02-28T17:10:17.104Z"
   },
   {
    "duration": 116,
    "start_time": "2025-02-28T17:10:17.158Z"
   },
   {
    "duration": 39,
    "start_time": "2025-02-28T17:10:17.276Z"
   },
   {
    "duration": 13,
    "start_time": "2025-02-28T17:10:17.316Z"
   },
   {
    "duration": 33,
    "start_time": "2025-02-28T17:10:17.330Z"
   },
   {
    "duration": 19,
    "start_time": "2025-02-28T17:10:17.364Z"
   },
   {
    "duration": 17,
    "start_time": "2025-02-28T17:10:17.385Z"
   },
   {
    "duration": 17,
    "start_time": "2025-02-28T17:10:17.403Z"
   },
   {
    "duration": 960553,
    "start_time": "2025-02-28T17:10:17.422Z"
   },
   {
    "duration": 3,
    "start_time": "2025-02-28T17:26:17.977Z"
   },
   {
    "duration": 16,
    "start_time": "2025-02-28T17:26:17.982Z"
   },
   {
    "duration": 13,
    "start_time": "2025-02-28T17:26:17.999Z"
   },
   {
    "duration": 58,
    "start_time": "2025-02-28T17:26:18.013Z"
   },
   {
    "duration": 17,
    "start_time": "2025-02-28T17:26:18.073Z"
   },
   {
    "duration": 2,
    "start_time": "2025-02-28T17:26:18.091Z"
   },
   {
    "duration": 17,
    "start_time": "2025-02-28T17:26:18.094Z"
   },
   {
    "duration": 16,
    "start_time": "2025-02-28T17:26:18.113Z"
   },
   {
    "duration": 19,
    "start_time": "2025-02-28T17:26:18.130Z"
   },
   {
    "duration": 5,
    "start_time": "2025-02-28T17:26:18.150Z"
   },
   {
    "duration": 4,
    "start_time": "2025-02-28T17:26:18.158Z"
   },
   {
    "duration": 9,
    "start_time": "2025-02-28T17:26:18.163Z"
   },
   {
    "duration": 18,
    "start_time": "2025-02-28T17:26:18.174Z"
   },
   {
    "duration": 5,
    "start_time": "2025-02-28T17:26:18.194Z"
   },
   {
    "duration": 8,
    "start_time": "2025-02-28T17:26:18.200Z"
   },
   {
    "duration": 1369,
    "start_time": "2025-02-28T17:26:18.209Z"
   },
   {
    "duration": 10,
    "start_time": "2025-02-28T17:26:19.580Z"
   },
   {
    "duration": 5,
    "start_time": "2025-02-28T17:43:44.942Z"
   },
   {
    "duration": 207,
    "start_time": "2025-02-28T17:44:01.812Z"
   },
   {
    "duration": 136,
    "start_time": "2025-02-28T17:44:41.475Z"
   },
   {
    "duration": 83,
    "start_time": "2025-02-28T17:45:07.565Z"
   },
   {
    "duration": 14,
    "start_time": "2025-02-28T17:45:34.655Z"
   },
   {
    "duration": 22,
    "start_time": "2025-02-28T17:45:54.342Z"
   },
   {
    "duration": 1600,
    "start_time": "2025-02-28T17:47:58.358Z"
   },
   {
    "duration": 35,
    "start_time": "2025-02-28T17:49:18.044Z"
   },
   {
    "duration": 28,
    "start_time": "2025-02-28T17:49:32.970Z"
   },
   {
    "duration": 36,
    "start_time": "2025-02-28T17:50:43.438Z"
   },
   {
    "duration": 38,
    "start_time": "2025-02-28T17:54:18.997Z"
   },
   {
    "duration": 23,
    "start_time": "2025-02-28T18:38:19.594Z"
   },
   {
    "duration": 93,
    "start_time": "2025-02-28T18:45:30.566Z"
   },
   {
    "duration": 9,
    "start_time": "2025-02-28T18:57:13.241Z"
   },
   {
    "duration": 18,
    "start_time": "2025-02-28T18:57:23.463Z"
   },
   {
    "duration": 2,
    "start_time": "2025-02-28T18:58:27.256Z"
   },
   {
    "duration": 2,
    "start_time": "2025-02-28T18:58:28.445Z"
   },
   {
    "duration": 3,
    "start_time": "2025-02-28T18:58:29.369Z"
   },
   {
    "duration": 4,
    "start_time": "2025-02-28T19:07:51.842Z"
   },
   {
    "duration": 4,
    "start_time": "2025-02-28T19:10:03.724Z"
   },
   {
    "duration": 1286,
    "start_time": "2025-02-28T19:10:03.730Z"
   },
   {
    "duration": 2,
    "start_time": "2025-02-28T19:10:05.018Z"
   },
   {
    "duration": 31,
    "start_time": "2025-02-28T19:10:05.021Z"
   },
   {
    "duration": 78,
    "start_time": "2025-02-28T19:10:05.054Z"
   },
   {
    "duration": 11,
    "start_time": "2025-02-28T19:10:05.134Z"
   },
   {
    "duration": 63,
    "start_time": "2025-02-28T19:10:05.147Z"
   },
   {
    "duration": 48,
    "start_time": "2025-02-28T19:10:05.212Z"
   },
   {
    "duration": 20,
    "start_time": "2025-02-28T19:10:05.261Z"
   },
   {
    "duration": 254,
    "start_time": "2025-02-28T19:10:05.283Z"
   },
   {
    "duration": 149,
    "start_time": "2025-02-28T19:10:05.540Z"
   },
   {
    "duration": 13,
    "start_time": "2025-02-28T19:10:05.690Z"
   },
   {
    "duration": 295,
    "start_time": "2025-02-28T19:10:05.704Z"
   },
   {
    "duration": 6,
    "start_time": "2025-02-28T19:10:06.001Z"
   },
   {
    "duration": 339,
    "start_time": "2025-02-28T19:10:06.009Z"
   },
   {
    "duration": 37,
    "start_time": "2025-02-28T19:10:06.349Z"
   },
   {
    "duration": 57,
    "start_time": "2025-02-28T19:10:06.387Z"
   },
   {
    "duration": 167,
    "start_time": "2025-02-28T19:10:06.446Z"
   },
   {
    "duration": 22,
    "start_time": "2025-02-28T19:10:06.614Z"
   },
   {
    "duration": 24,
    "start_time": "2025-02-28T19:10:06.637Z"
   },
   {
    "duration": 17,
    "start_time": "2025-02-28T19:10:06.662Z"
   },
   {
    "duration": 27,
    "start_time": "2025-02-28T19:10:06.681Z"
   },
   {
    "duration": 31,
    "start_time": "2025-02-28T19:10:06.709Z"
   },
   {
    "duration": 20,
    "start_time": "2025-02-28T19:10:06.742Z"
   },
   {
    "duration": 1208310,
    "start_time": "2025-02-28T19:10:06.763Z"
   },
   {
    "duration": 4,
    "start_time": "2025-02-28T19:30:15.074Z"
   },
   {
    "duration": 60,
    "start_time": "2025-02-28T19:30:15.080Z"
   },
   {
    "duration": 35,
    "start_time": "2025-02-28T19:30:15.142Z"
   },
   {
    "duration": 64,
    "start_time": "2025-02-28T19:30:15.180Z"
   },
   {
    "duration": 108,
    "start_time": "2025-02-28T19:30:15.246Z"
   },
   {
    "duration": 0,
    "start_time": "2025-02-28T19:30:15.355Z"
   },
   {
    "duration": 0,
    "start_time": "2025-02-28T19:30:15.356Z"
   },
   {
    "duration": 0,
    "start_time": "2025-02-28T19:30:15.357Z"
   },
   {
    "duration": 0,
    "start_time": "2025-02-28T19:30:15.359Z"
   },
   {
    "duration": 0,
    "start_time": "2025-02-28T19:30:15.360Z"
   },
   {
    "duration": 0,
    "start_time": "2025-02-28T19:30:15.361Z"
   },
   {
    "duration": 0,
    "start_time": "2025-02-28T19:30:15.362Z"
   },
   {
    "duration": 0,
    "start_time": "2025-02-28T19:30:15.363Z"
   },
   {
    "duration": 0,
    "start_time": "2025-02-28T19:30:15.364Z"
   },
   {
    "duration": 0,
    "start_time": "2025-02-28T19:30:15.365Z"
   },
   {
    "duration": 0,
    "start_time": "2025-02-28T19:30:15.366Z"
   },
   {
    "duration": 0,
    "start_time": "2025-02-28T19:30:15.367Z"
   },
   {
    "duration": 9,
    "start_time": "2025-02-28T19:31:21.658Z"
   },
   {
    "duration": 2,
    "start_time": "2025-02-28T19:31:22.664Z"
   },
   {
    "duration": 3,
    "start_time": "2025-02-28T19:31:24.312Z"
   },
   {
    "duration": 3,
    "start_time": "2025-02-28T19:31:25.916Z"
   },
   {
    "duration": 109,
    "start_time": "2025-02-28T19:31:27.533Z"
   },
   {
    "duration": 104,
    "start_time": "2025-02-28T19:31:56.554Z"
   },
   {
    "duration": 9,
    "start_time": "2025-02-28T19:33:31.302Z"
   },
   {
    "duration": 9,
    "start_time": "2025-02-28T19:33:44.074Z"
   },
   {
    "duration": 4,
    "start_time": "2025-02-28T19:35:24.532Z"
   },
   {
    "duration": 3,
    "start_time": "2025-02-28T19:35:37.357Z"
   },
   {
    "duration": 4,
    "start_time": "2025-02-28T19:35:59.573Z"
   },
   {
    "duration": 4,
    "start_time": "2025-02-28T19:36:06.403Z"
   },
   {
    "duration": 2,
    "start_time": "2025-02-28T19:36:08.652Z"
   },
   {
    "duration": 1332,
    "start_time": "2025-02-28T19:36:12.927Z"
   },
   {
    "duration": 10,
    "start_time": "2025-02-28T19:36:22.483Z"
   },
   {
    "duration": 9,
    "start_time": "2025-02-28T19:36:53.550Z"
   },
   {
    "duration": 3,
    "start_time": "2025-02-28T19:36:54.445Z"
   },
   {
    "duration": 2,
    "start_time": "2025-02-28T19:36:56.011Z"
   },
   {
    "duration": 2,
    "start_time": "2025-02-28T19:36:58.604Z"
   },
   {
    "duration": 110,
    "start_time": "2025-02-28T19:37:03.231Z"
   },
   {
    "duration": 8,
    "start_time": "2025-02-28T19:37:21.086Z"
   },
   {
    "duration": 11,
    "start_time": "2025-02-28T19:37:21.313Z"
   },
   {
    "duration": 3,
    "start_time": "2025-02-28T19:37:30.834Z"
   },
   {
    "duration": 1274,
    "start_time": "2025-02-28T19:37:30.839Z"
   },
   {
    "duration": 3,
    "start_time": "2025-02-28T19:37:32.114Z"
   },
   {
    "duration": 28,
    "start_time": "2025-02-28T19:37:32.118Z"
   },
   {
    "duration": 77,
    "start_time": "2025-02-28T19:37:32.147Z"
   },
   {
    "duration": 11,
    "start_time": "2025-02-28T19:37:32.225Z"
   },
   {
    "duration": 39,
    "start_time": "2025-02-28T19:37:32.237Z"
   },
   {
    "duration": 7,
    "start_time": "2025-02-28T19:37:32.277Z"
   },
   {
    "duration": 14,
    "start_time": "2025-02-28T19:37:32.285Z"
   },
   {
    "duration": 235,
    "start_time": "2025-02-28T19:37:32.300Z"
   },
   {
    "duration": 66,
    "start_time": "2025-02-28T19:37:32.537Z"
   },
   {
    "duration": 13,
    "start_time": "2025-02-28T19:37:32.605Z"
   },
   {
    "duration": 267,
    "start_time": "2025-02-28T19:37:32.619Z"
   },
   {
    "duration": 6,
    "start_time": "2025-02-28T19:37:32.887Z"
   },
   {
    "duration": 316,
    "start_time": "2025-02-28T19:37:32.894Z"
   },
   {
    "duration": 19,
    "start_time": "2025-02-28T19:37:33.212Z"
   },
   {
    "duration": 50,
    "start_time": "2025-02-28T19:37:33.232Z"
   },
   {
    "duration": 158,
    "start_time": "2025-02-28T19:37:33.283Z"
   },
   {
    "duration": 21,
    "start_time": "2025-02-28T19:37:33.443Z"
   },
   {
    "duration": 37,
    "start_time": "2025-02-28T19:37:33.466Z"
   },
   {
    "duration": 22,
    "start_time": "2025-02-28T19:37:33.505Z"
   },
   {
    "duration": 22,
    "start_time": "2025-02-28T19:37:33.529Z"
   },
   {
    "duration": 6,
    "start_time": "2025-02-28T19:37:33.553Z"
   },
   {
    "duration": 4,
    "start_time": "2025-02-28T19:37:33.560Z"
   },
   {
    "duration": 18415,
    "start_time": "2025-02-28T19:37:33.565Z"
   },
   {
    "duration": 3,
    "start_time": "2025-02-28T19:37:51.982Z"
   },
   {
    "duration": 3,
    "start_time": "2025-02-28T19:37:52.071Z"
   },
   {
    "duration": 23,
    "start_time": "2025-02-28T19:37:52.075Z"
   },
   {
    "duration": 16,
    "start_time": "2025-02-28T19:37:52.101Z"
   },
   {
    "duration": 27,
    "start_time": "2025-02-28T19:37:52.119Z"
   },
   {
    "duration": 10,
    "start_time": "2025-02-28T19:37:52.148Z"
   },
   {
    "duration": 12,
    "start_time": "2025-02-28T19:37:52.160Z"
   },
   {
    "duration": 19,
    "start_time": "2025-02-28T19:37:52.173Z"
   },
   {
    "duration": 32,
    "start_time": "2025-02-28T19:37:52.194Z"
   },
   {
    "duration": 45,
    "start_time": "2025-02-28T19:37:52.227Z"
   },
   {
    "duration": 12,
    "start_time": "2025-02-28T19:37:52.274Z"
   },
   {
    "duration": 13,
    "start_time": "2025-02-28T19:37:52.287Z"
   },
   {
    "duration": 14,
    "start_time": "2025-02-28T19:37:52.301Z"
   },
   {
    "duration": 14,
    "start_time": "2025-02-28T19:37:52.317Z"
   },
   {
    "duration": 1732,
    "start_time": "2025-02-28T19:37:52.332Z"
   },
   {
    "duration": 12,
    "start_time": "2025-02-28T19:37:54.066Z"
   },
   {
    "duration": 3,
    "start_time": "2025-02-28T19:47:52.791Z"
   },
   {
    "duration": 1189,
    "start_time": "2025-02-28T19:47:52.796Z"
   },
   {
    "duration": 2,
    "start_time": "2025-02-28T19:47:53.987Z"
   },
   {
    "duration": 6,
    "start_time": "2025-02-28T19:47:53.990Z"
   },
   {
    "duration": 55,
    "start_time": "2025-02-28T19:47:53.998Z"
   },
   {
    "duration": 10,
    "start_time": "2025-02-28T19:47:54.055Z"
   },
   {
    "duration": 10,
    "start_time": "2025-02-28T19:47:54.066Z"
   },
   {
    "duration": 6,
    "start_time": "2025-02-28T19:47:54.078Z"
   },
   {
    "duration": 11,
    "start_time": "2025-02-28T19:47:54.085Z"
   },
   {
    "duration": 236,
    "start_time": "2025-02-28T19:47:54.098Z"
   },
   {
    "duration": 60,
    "start_time": "2025-02-28T19:47:54.336Z"
   },
   {
    "duration": 14,
    "start_time": "2025-02-28T19:47:54.397Z"
   },
   {
    "duration": 239,
    "start_time": "2025-02-28T19:47:54.412Z"
   },
   {
    "duration": 18,
    "start_time": "2025-02-28T19:47:54.652Z"
   },
   {
    "duration": 284,
    "start_time": "2025-02-28T19:47:54.674Z"
   },
   {
    "duration": 26,
    "start_time": "2025-02-28T19:47:54.960Z"
   },
   {
    "duration": 9,
    "start_time": "2025-02-28T19:47:54.988Z"
   },
   {
    "duration": 132,
    "start_time": "2025-02-28T19:47:54.998Z"
   },
   {
    "duration": 24,
    "start_time": "2025-02-28T19:47:55.131Z"
   },
   {
    "duration": 39,
    "start_time": "2025-02-28T19:47:55.156Z"
   },
   {
    "duration": 17,
    "start_time": "2025-02-28T19:47:55.196Z"
   },
   {
    "duration": 7,
    "start_time": "2025-02-28T19:47:55.215Z"
   },
   {
    "duration": 16,
    "start_time": "2025-02-28T19:47:55.224Z"
   },
   {
    "duration": 10,
    "start_time": "2025-02-28T19:47:55.241Z"
   },
   {
    "duration": 18026,
    "start_time": "2025-02-28T19:47:55.253Z"
   },
   {
    "duration": 4,
    "start_time": "2025-02-28T19:48:13.280Z"
   },
   {
    "duration": 45,
    "start_time": "2025-02-28T19:48:13.285Z"
   },
   {
    "duration": 45,
    "start_time": "2025-02-28T19:48:13.331Z"
   },
   {
    "duration": 15,
    "start_time": "2025-02-28T19:48:13.377Z"
   },
   {
    "duration": 22,
    "start_time": "2025-02-28T19:48:13.393Z"
   },
   {
    "duration": 3,
    "start_time": "2025-02-28T19:48:13.416Z"
   },
   {
    "duration": 4,
    "start_time": "2025-02-28T19:48:13.421Z"
   },
   {
    "duration": 5,
    "start_time": "2025-02-28T19:48:13.426Z"
   },
   {
    "duration": 12,
    "start_time": "2025-02-28T19:48:13.432Z"
   },
   {
    "duration": 12,
    "start_time": "2025-02-28T19:48:13.446Z"
   },
   {
    "duration": 5,
    "start_time": "2025-02-28T19:48:13.459Z"
   },
   {
    "duration": 5,
    "start_time": "2025-02-28T19:48:13.466Z"
   },
   {
    "duration": 11,
    "start_time": "2025-02-28T19:48:13.472Z"
   },
   {
    "duration": 30,
    "start_time": "2025-02-28T19:48:13.484Z"
   },
   {
    "duration": 1311,
    "start_time": "2025-02-28T19:48:13.516Z"
   },
   {
    "duration": 43,
    "start_time": "2025-02-28T19:48:14.829Z"
   },
   {
    "duration": 4,
    "start_time": "2025-02-28T19:54:20.510Z"
   },
   {
    "duration": 1290,
    "start_time": "2025-02-28T19:54:20.516Z"
   },
   {
    "duration": 2,
    "start_time": "2025-02-28T19:54:21.808Z"
   },
   {
    "duration": 4,
    "start_time": "2025-02-28T19:54:21.812Z"
   },
   {
    "duration": 58,
    "start_time": "2025-02-28T19:54:21.817Z"
   },
   {
    "duration": 12,
    "start_time": "2025-02-28T19:54:21.876Z"
   },
   {
    "duration": 25,
    "start_time": "2025-02-28T19:54:21.889Z"
   },
   {
    "duration": 8,
    "start_time": "2025-02-28T19:54:21.917Z"
   },
   {
    "duration": 13,
    "start_time": "2025-02-28T19:54:21.928Z"
   },
   {
    "duration": 254,
    "start_time": "2025-02-28T19:54:21.942Z"
   },
   {
    "duration": 68,
    "start_time": "2025-02-28T19:54:22.198Z"
   },
   {
    "duration": 15,
    "start_time": "2025-02-28T19:54:22.267Z"
   },
   {
    "duration": 248,
    "start_time": "2025-02-28T19:54:22.284Z"
   },
   {
    "duration": 7,
    "start_time": "2025-02-28T19:54:22.534Z"
   },
   {
    "duration": 305,
    "start_time": "2025-02-28T19:54:22.543Z"
   },
   {
    "duration": 30,
    "start_time": "2025-02-28T19:54:22.850Z"
   },
   {
    "duration": 4,
    "start_time": "2025-02-28T19:54:22.881Z"
   },
   {
    "duration": 136,
    "start_time": "2025-02-28T19:54:22.887Z"
   },
   {
    "duration": 22,
    "start_time": "2025-02-28T19:54:23.025Z"
   },
   {
    "duration": 27,
    "start_time": "2025-02-28T19:54:23.049Z"
   },
   {
    "duration": 19,
    "start_time": "2025-02-28T19:54:23.077Z"
   },
   {
    "duration": 4,
    "start_time": "2025-02-28T19:54:23.098Z"
   },
   {
    "duration": 10,
    "start_time": "2025-02-28T19:54:23.103Z"
   },
   {
    "duration": 3,
    "start_time": "2025-02-28T19:54:23.115Z"
   },
   {
    "duration": 3,
    "start_time": "2025-02-28T19:55:19.585Z"
   },
   {
    "duration": 1271,
    "start_time": "2025-02-28T19:55:19.591Z"
   },
   {
    "duration": 3,
    "start_time": "2025-02-28T19:55:20.863Z"
   },
   {
    "duration": 27,
    "start_time": "2025-02-28T19:55:20.867Z"
   },
   {
    "duration": 71,
    "start_time": "2025-02-28T19:55:20.896Z"
   },
   {
    "duration": 11,
    "start_time": "2025-02-28T19:55:20.969Z"
   },
   {
    "duration": 12,
    "start_time": "2025-02-28T19:55:20.981Z"
   },
   {
    "duration": 8,
    "start_time": "2025-02-28T19:55:20.994Z"
   },
   {
    "duration": 66,
    "start_time": "2025-02-28T19:55:21.003Z"
   },
   {
    "duration": 255,
    "start_time": "2025-02-28T19:55:21.071Z"
   },
   {
    "duration": 76,
    "start_time": "2025-02-28T19:55:21.328Z"
   },
   {
    "duration": 13,
    "start_time": "2025-02-28T19:55:21.406Z"
   },
   {
    "duration": 259,
    "start_time": "2025-02-28T19:55:21.422Z"
   },
   {
    "duration": 6,
    "start_time": "2025-02-28T19:55:21.682Z"
   },
   {
    "duration": 302,
    "start_time": "2025-02-28T19:55:21.690Z"
   },
   {
    "duration": 19,
    "start_time": "2025-02-28T19:55:21.994Z"
   },
   {
    "duration": 4,
    "start_time": "2025-02-28T19:55:22.015Z"
   },
   {
    "duration": 140,
    "start_time": "2025-02-28T19:55:22.020Z"
   },
   {
    "duration": 30,
    "start_time": "2025-02-28T19:55:22.161Z"
   },
   {
    "duration": 31,
    "start_time": "2025-02-28T19:55:22.193Z"
   },
   {
    "duration": 18,
    "start_time": "2025-02-28T19:55:22.226Z"
   },
   {
    "duration": 15,
    "start_time": "2025-02-28T19:55:22.245Z"
   },
   {
    "duration": 4,
    "start_time": "2025-02-28T19:55:22.262Z"
   },
   {
    "duration": 6,
    "start_time": "2025-02-28T19:55:22.267Z"
   },
   {
    "duration": 41805,
    "start_time": "2025-02-28T19:55:22.274Z"
   },
   {
    "duration": 3,
    "start_time": "2025-02-28T19:56:04.081Z"
   },
   {
    "duration": 86,
    "start_time": "2025-02-28T19:56:04.085Z"
   },
   {
    "duration": 23,
    "start_time": "2025-02-28T19:56:04.173Z"
   },
   {
    "duration": 24,
    "start_time": "2025-02-28T19:56:04.197Z"
   },
   {
    "duration": 39,
    "start_time": "2025-02-28T19:56:04.222Z"
   },
   {
    "duration": 24,
    "start_time": "2025-02-28T19:56:04.262Z"
   },
   {
    "duration": 31,
    "start_time": "2025-02-28T19:56:04.288Z"
   },
   {
    "duration": 19,
    "start_time": "2025-02-28T19:56:04.321Z"
   },
   {
    "duration": 12,
    "start_time": "2025-02-28T19:56:04.342Z"
   },
   {
    "duration": 8,
    "start_time": "2025-02-28T19:56:04.355Z"
   },
   {
    "duration": 6,
    "start_time": "2025-02-28T19:56:04.364Z"
   },
   {
    "duration": 26,
    "start_time": "2025-02-28T19:56:04.373Z"
   },
   {
    "duration": 12,
    "start_time": "2025-02-28T19:56:04.400Z"
   },
   {
    "duration": 18,
    "start_time": "2025-02-28T19:56:04.413Z"
   },
   {
    "duration": 1388,
    "start_time": "2025-02-28T19:56:04.433Z"
   },
   {
    "duration": 15,
    "start_time": "2025-02-28T19:56:05.823Z"
   },
   {
    "duration": 3,
    "start_time": "2025-02-28T19:58:08.752Z"
   },
   {
    "duration": 1250,
    "start_time": "2025-02-28T19:58:08.756Z"
   },
   {
    "duration": 3,
    "start_time": "2025-02-28T19:58:10.007Z"
   },
   {
    "duration": 15,
    "start_time": "2025-02-28T19:58:10.011Z"
   },
   {
    "duration": 50,
    "start_time": "2025-02-28T19:58:10.028Z"
   },
   {
    "duration": 10,
    "start_time": "2025-02-28T19:58:10.079Z"
   },
   {
    "duration": 11,
    "start_time": "2025-02-28T19:58:10.091Z"
   },
   {
    "duration": 7,
    "start_time": "2025-02-28T19:58:10.103Z"
   },
   {
    "duration": 20,
    "start_time": "2025-02-28T19:58:10.111Z"
   },
   {
    "duration": 233,
    "start_time": "2025-02-28T19:58:10.132Z"
   },
   {
    "duration": 74,
    "start_time": "2025-02-28T19:58:10.369Z"
   },
   {
    "duration": 13,
    "start_time": "2025-02-28T19:58:10.445Z"
   },
   {
    "duration": 236,
    "start_time": "2025-02-28T19:58:10.459Z"
   },
   {
    "duration": 6,
    "start_time": "2025-02-28T19:58:10.698Z"
   },
   {
    "duration": 295,
    "start_time": "2025-02-28T19:58:10.705Z"
   },
   {
    "duration": 18,
    "start_time": "2025-02-28T19:58:11.002Z"
   },
   {
    "duration": 4,
    "start_time": "2025-02-28T19:58:11.021Z"
   },
   {
    "duration": 136,
    "start_time": "2025-02-28T19:58:11.027Z"
   },
   {
    "duration": 22,
    "start_time": "2025-02-28T19:58:11.164Z"
   },
   {
    "duration": 12,
    "start_time": "2025-02-28T19:58:11.187Z"
   },
   {
    "duration": 12,
    "start_time": "2025-02-28T19:58:11.200Z"
   },
   {
    "duration": 16,
    "start_time": "2025-02-28T19:58:11.214Z"
   },
   {
    "duration": 4,
    "start_time": "2025-02-28T19:58:11.232Z"
   },
   {
    "duration": 7,
    "start_time": "2025-02-28T19:58:11.237Z"
   },
   {
    "duration": 19134,
    "start_time": "2025-02-28T19:58:11.245Z"
   },
   {
    "duration": 3,
    "start_time": "2025-02-28T19:58:30.381Z"
   },
   {
    "duration": 27,
    "start_time": "2025-02-28T19:58:30.385Z"
   },
   {
    "duration": 38,
    "start_time": "2025-02-28T19:58:30.413Z"
   },
   {
    "duration": 36,
    "start_time": "2025-02-28T19:58:30.452Z"
   },
   {
    "duration": 33,
    "start_time": "2025-02-28T19:58:30.489Z"
   },
   {
    "duration": 7,
    "start_time": "2025-02-28T19:58:30.524Z"
   },
   {
    "duration": 21,
    "start_time": "2025-02-28T19:58:30.532Z"
   },
   {
    "duration": 24,
    "start_time": "2025-02-28T19:58:30.554Z"
   },
   {
    "duration": 22,
    "start_time": "2025-02-28T19:58:30.579Z"
   },
   {
    "duration": 8,
    "start_time": "2025-02-28T19:58:30.602Z"
   },
   {
    "duration": 7,
    "start_time": "2025-02-28T19:58:30.611Z"
   },
   {
    "duration": 12,
    "start_time": "2025-02-28T19:58:30.619Z"
   },
   {
    "duration": 19,
    "start_time": "2025-02-28T19:58:30.632Z"
   },
   {
    "duration": 19,
    "start_time": "2025-02-28T19:58:30.652Z"
   },
   {
    "duration": 1413,
    "start_time": "2025-02-28T19:58:30.672Z"
   },
   {
    "duration": 15,
    "start_time": "2025-02-28T19:58:32.088Z"
   },
   {
    "duration": 378,
    "start_time": "2025-03-01T10:00:45.840Z"
   },
   {
    "duration": 218,
    "start_time": "2025-03-01T10:00:53.029Z"
   },
   {
    "duration": 227,
    "start_time": "2025-03-01T10:01:02.202Z"
   },
   {
    "duration": 228,
    "start_time": "2025-03-01T10:01:50.603Z"
   },
   {
    "duration": 221,
    "start_time": "2025-03-01T10:02:37.166Z"
   },
   {
    "duration": 277,
    "start_time": "2025-03-01T10:03:35.035Z"
   },
   {
    "duration": 181,
    "start_time": "2025-03-01T10:06:41.360Z"
   },
   {
    "duration": 169,
    "start_time": "2025-03-01T10:06:54.823Z"
   },
   {
    "duration": 173,
    "start_time": "2025-03-01T10:07:08.063Z"
   },
   {
    "duration": 181,
    "start_time": "2025-03-01T10:07:28.314Z"
   },
   {
    "duration": 175,
    "start_time": "2025-03-01T10:11:11.356Z"
   },
   {
    "duration": 156,
    "start_time": "2025-03-01T10:12:15.674Z"
   },
   {
    "duration": 164,
    "start_time": "2025-03-01T10:12:32.371Z"
   },
   {
    "duration": 158,
    "start_time": "2025-03-01T10:13:20.987Z"
   },
   {
    "duration": 219,
    "start_time": "2025-03-01T10:13:41.894Z"
   },
   {
    "duration": 227,
    "start_time": "2025-03-01T10:14:02.516Z"
   },
   {
    "duration": 17,
    "start_time": "2025-03-01T10:15:44.618Z"
   },
   {
    "duration": 14,
    "start_time": "2025-03-01T10:15:58.991Z"
   },
   {
    "duration": 16,
    "start_time": "2025-03-01T10:16:15.506Z"
   },
   {
    "duration": 14,
    "start_time": "2025-03-01T10:17:24.055Z"
   },
   {
    "duration": 11,
    "start_time": "2025-03-01T10:18:25.885Z"
   },
   {
    "duration": 14,
    "start_time": "2025-03-01T10:18:50.327Z"
   },
   {
    "duration": 36,
    "start_time": "2025-03-01T10:19:12.524Z"
   },
   {
    "duration": 5,
    "start_time": "2025-03-01T10:19:25.164Z"
   },
   {
    "duration": 16,
    "start_time": "2025-03-01T10:19:45.085Z"
   },
   {
    "duration": 159,
    "start_time": "2025-03-01T10:20:24.997Z"
   },
   {
    "duration": 109,
    "start_time": "2025-03-01T10:21:05.858Z"
   },
   {
    "duration": 243,
    "start_time": "2025-03-01T10:22:28.148Z"
   },
   {
    "duration": 33,
    "start_time": "2025-03-01T10:22:53.027Z"
   },
   {
    "duration": 18,
    "start_time": "2025-03-01T10:26:19.727Z"
   },
   {
    "duration": 177,
    "start_time": "2025-03-01T10:26:32.343Z"
   },
   {
    "duration": 173,
    "start_time": "2025-03-01T10:27:14.406Z"
   },
   {
    "duration": 190,
    "start_time": "2025-03-01T10:27:45.172Z"
   },
   {
    "duration": 182,
    "start_time": "2025-03-01T10:28:22.367Z"
   },
   {
    "duration": 173,
    "start_time": "2025-03-01T10:29:07.073Z"
   },
   {
    "duration": 178,
    "start_time": "2025-03-01T10:30:39.310Z"
   },
   {
    "duration": 170,
    "start_time": "2025-03-01T10:30:55.662Z"
   },
   {
    "duration": 259,
    "start_time": "2025-03-01T10:31:32.650Z"
   },
   {
    "duration": 228,
    "start_time": "2025-03-01T10:31:38.063Z"
   },
   {
    "duration": 185,
    "start_time": "2025-03-01T10:31:47.367Z"
   },
   {
    "duration": 272,
    "start_time": "2025-03-01T10:32:07.992Z"
   },
   {
    "duration": 173,
    "start_time": "2025-03-01T10:32:37.909Z"
   },
   {
    "duration": 170,
    "start_time": "2025-03-01T10:32:40.235Z"
   },
   {
    "duration": 178,
    "start_time": "2025-03-01T10:33:20.612Z"
   },
   {
    "duration": 171,
    "start_time": "2025-03-01T10:33:47.839Z"
   },
   {
    "duration": 19,
    "start_time": "2025-03-01T10:40:15.469Z"
   },
   {
    "duration": 193,
    "start_time": "2025-03-01T10:41:10.313Z"
   },
   {
    "duration": 188,
    "start_time": "2025-03-01T10:41:21.629Z"
   },
   {
    "duration": 181,
    "start_time": "2025-03-01T10:41:56.414Z"
   },
   {
    "duration": 200,
    "start_time": "2025-03-01T10:43:17.991Z"
   },
   {
    "duration": 176,
    "start_time": "2025-03-01T10:52:22.462Z"
   },
   {
    "duration": 218,
    "start_time": "2025-03-01T10:54:58.559Z"
   },
   {
    "duration": 232,
    "start_time": "2025-03-01T10:55:12.716Z"
   },
   {
    "duration": 3451,
    "start_time": "2025-03-01T10:55:59.540Z"
   },
   {
    "duration": 3049,
    "start_time": "2025-03-01T11:06:59.043Z"
   },
   {
    "duration": 1362,
    "start_time": "2025-03-01T11:07:02.095Z"
   },
   {
    "duration": 2,
    "start_time": "2025-03-01T11:07:03.459Z"
   },
   {
    "duration": 20,
    "start_time": "2025-03-01T11:07:03.471Z"
   },
   {
    "duration": 56,
    "start_time": "2025-03-01T11:07:03.493Z"
   },
   {
    "duration": 12,
    "start_time": "2025-03-01T11:07:03.551Z"
   },
   {
    "duration": 38,
    "start_time": "2025-03-01T11:07:03.564Z"
   },
   {
    "duration": 24,
    "start_time": "2025-03-01T11:07:03.603Z"
   },
   {
    "duration": 20,
    "start_time": "2025-03-01T11:07:03.629Z"
   },
   {
    "duration": 280,
    "start_time": "2025-03-01T11:07:03.651Z"
   },
   {
    "duration": 139,
    "start_time": "2025-03-01T11:07:03.933Z"
   },
   {
    "duration": 16,
    "start_time": "2025-03-01T11:07:04.074Z"
   },
   {
    "duration": 373,
    "start_time": "2025-03-01T11:07:04.092Z"
   },
   {
    "duration": 7,
    "start_time": "2025-03-01T11:07:04.468Z"
   },
   {
    "duration": 262,
    "start_time": "2025-03-01T11:07:04.476Z"
   },
   {
    "duration": 32,
    "start_time": "2025-03-01T11:07:04.740Z"
   },
   {
    "duration": 180,
    "start_time": "2025-03-01T11:07:04.774Z"
   },
   {
    "duration": 216,
    "start_time": "2025-03-01T11:07:04.956Z"
   },
   {
    "duration": 188,
    "start_time": "2025-03-01T11:07:05.174Z"
   },
   {
    "duration": 2418,
    "start_time": "2025-03-01T11:07:05.364Z"
   },
   {
    "duration": 87,
    "start_time": "2025-03-01T11:07:07.784Z"
   },
   {
    "duration": 223,
    "start_time": "2025-03-01T11:07:07.873Z"
   },
   {
    "duration": 25,
    "start_time": "2025-03-01T11:07:08.098Z"
   },
   {
    "duration": 31,
    "start_time": "2025-03-01T11:07:08.125Z"
   },
   {
    "duration": 23,
    "start_time": "2025-03-01T11:07:08.158Z"
   },
   {
    "duration": 44,
    "start_time": "2025-03-01T11:07:08.183Z"
   },
   {
    "duration": 23,
    "start_time": "2025-03-01T11:07:08.229Z"
   },
   {
    "duration": 26,
    "start_time": "2025-03-01T11:07:08.253Z"
   },
   {
    "duration": 948590,
    "start_time": "2025-03-01T11:07:08.281Z"
   },
   {
    "duration": 3,
    "start_time": "2025-03-01T11:22:56.873Z"
   },
   {
    "duration": 12,
    "start_time": "2025-03-01T11:22:56.878Z"
   },
   {
    "duration": 8,
    "start_time": "2025-03-01T11:22:56.892Z"
   },
   {
    "duration": 20,
    "start_time": "2025-03-01T11:22:56.902Z"
   },
   {
    "duration": 41,
    "start_time": "2025-03-01T11:22:56.923Z"
   },
   {
    "duration": 15,
    "start_time": "2025-03-01T11:22:56.966Z"
   },
   {
    "duration": 3,
    "start_time": "2025-03-01T11:22:56.983Z"
   },
   {
    "duration": 3,
    "start_time": "2025-03-01T11:22:56.988Z"
   },
   {
    "duration": 11,
    "start_time": "2025-03-01T11:22:56.992Z"
   },
   {
    "duration": 6,
    "start_time": "2025-03-01T11:22:57.005Z"
   },
   {
    "duration": 4,
    "start_time": "2025-03-01T11:22:57.013Z"
   },
   {
    "duration": 6,
    "start_time": "2025-03-01T11:22:57.020Z"
   },
   {
    "duration": 9,
    "start_time": "2025-03-01T11:22:57.027Z"
   },
   {
    "duration": 13,
    "start_time": "2025-03-01T11:22:57.037Z"
   },
   {
    "duration": 1387,
    "start_time": "2025-03-01T11:22:57.051Z"
   },
   {
    "duration": 33,
    "start_time": "2025-03-01T11:22:58.440Z"
   },
   {
    "duration": 348,
    "start_time": "2025-03-01T11:22:58.475Z"
   },
   {
    "duration": 194,
    "start_time": "2025-03-02T10:21:07.101Z"
   },
   {
    "duration": 184,
    "start_time": "2025-03-02T10:21:35.080Z"
   },
   {
    "duration": 181,
    "start_time": "2025-03-02T10:23:11.034Z"
   },
   {
    "duration": 177,
    "start_time": "2025-03-02T10:23:27.336Z"
   },
   {
    "duration": 189,
    "start_time": "2025-03-02T10:23:41.121Z"
   },
   {
    "duration": 292,
    "start_time": "2025-03-02T10:23:52.512Z"
   },
   {
    "duration": 172,
    "start_time": "2025-03-02T10:26:52.690Z"
   },
   {
    "duration": 182,
    "start_time": "2025-03-02T10:26:58.416Z"
   },
   {
    "duration": 2990,
    "start_time": "2025-03-02T10:38:25.747Z"
   },
   {
    "duration": 2927,
    "start_time": "2025-03-02T10:38:46.610Z"
   },
   {
    "duration": 1315,
    "start_time": "2025-03-02T10:38:49.539Z"
   },
   {
    "duration": 3,
    "start_time": "2025-03-02T10:38:50.855Z"
   },
   {
    "duration": 28,
    "start_time": "2025-03-02T10:38:50.860Z"
   },
   {
    "duration": 55,
    "start_time": "2025-03-02T10:38:50.890Z"
   },
   {
    "duration": 10,
    "start_time": "2025-03-02T10:38:50.947Z"
   },
   {
    "duration": 48,
    "start_time": "2025-03-02T10:38:50.959Z"
   },
   {
    "duration": 8,
    "start_time": "2025-03-02T10:38:51.008Z"
   },
   {
    "duration": 38,
    "start_time": "2025-03-02T10:38:51.017Z"
   },
   {
    "duration": 255,
    "start_time": "2025-03-02T10:38:51.057Z"
   },
   {
    "duration": 136,
    "start_time": "2025-03-02T10:38:51.314Z"
   },
   {
    "duration": 13,
    "start_time": "2025-03-02T10:38:51.452Z"
   },
   {
    "duration": 327,
    "start_time": "2025-03-02T10:38:51.466Z"
   },
   {
    "duration": 6,
    "start_time": "2025-03-02T10:38:51.794Z"
   },
   {
    "duration": 251,
    "start_time": "2025-03-02T10:38:51.802Z"
   },
   {
    "duration": 27,
    "start_time": "2025-03-02T10:38:52.055Z"
   },
   {
    "duration": 193,
    "start_time": "2025-03-02T10:38:52.084Z"
   },
   {
    "duration": 177,
    "start_time": "2025-03-02T10:38:52.279Z"
   },
   {
    "duration": 186,
    "start_time": "2025-03-02T10:38:52.458Z"
   },
   {
    "duration": 1825,
    "start_time": "2025-03-02T10:38:52.646Z"
   },
   {
    "duration": 5,
    "start_time": "2025-03-02T10:38:54.473Z"
   },
   {
    "duration": 236,
    "start_time": "2025-03-02T10:38:54.480Z"
   },
   {
    "duration": 24,
    "start_time": "2025-03-02T10:38:54.718Z"
   },
   {
    "duration": 38,
    "start_time": "2025-03-02T10:38:54.744Z"
   },
   {
    "duration": 13,
    "start_time": "2025-03-02T10:38:54.784Z"
   },
   {
    "duration": 3,
    "start_time": "2025-03-02T10:38:54.799Z"
   },
   {
    "duration": 5,
    "start_time": "2025-03-02T10:38:54.804Z"
   },
   {
    "duration": 3,
    "start_time": "2025-03-02T10:38:54.813Z"
   },
   {
    "duration": 3,
    "start_time": "2025-03-02T10:41:26.050Z"
   },
   {
    "duration": 1283,
    "start_time": "2025-03-02T10:41:26.054Z"
   },
   {
    "duration": 3,
    "start_time": "2025-03-02T10:41:27.339Z"
   },
   {
    "duration": 5,
    "start_time": "2025-03-02T10:41:27.343Z"
   },
   {
    "duration": 45,
    "start_time": "2025-03-02T10:41:27.349Z"
   },
   {
    "duration": 11,
    "start_time": "2025-03-02T10:41:27.396Z"
   },
   {
    "duration": 22,
    "start_time": "2025-03-02T10:41:27.409Z"
   },
   {
    "duration": 7,
    "start_time": "2025-03-02T10:41:27.433Z"
   },
   {
    "duration": 9,
    "start_time": "2025-03-02T10:41:27.443Z"
   },
   {
    "duration": 258,
    "start_time": "2025-03-02T10:41:27.470Z"
   },
   {
    "duration": 69,
    "start_time": "2025-03-02T10:41:27.730Z"
   },
   {
    "duration": 15,
    "start_time": "2025-03-02T10:41:27.800Z"
   },
   {
    "duration": 332,
    "start_time": "2025-03-02T10:41:27.817Z"
   },
   {
    "duration": 6,
    "start_time": "2025-03-02T10:41:28.150Z"
   },
   {
    "duration": 222,
    "start_time": "2025-03-02T10:41:28.170Z"
   },
   {
    "duration": 18,
    "start_time": "2025-03-02T10:41:28.394Z"
   },
   {
    "duration": 192,
    "start_time": "2025-03-02T10:41:28.414Z"
   },
   {
    "duration": 202,
    "start_time": "2025-03-02T10:41:28.608Z"
   },
   {
    "duration": 192,
    "start_time": "2025-03-02T10:41:28.811Z"
   },
   {
    "duration": 1672,
    "start_time": "2025-03-02T10:41:29.004Z"
   },
   {
    "duration": 93,
    "start_time": "2025-03-02T10:41:30.678Z"
   },
   {
    "duration": 219,
    "start_time": "2025-03-02T10:41:30.779Z"
   },
   {
    "duration": 24,
    "start_time": "2025-03-02T10:41:30.999Z"
   },
   {
    "duration": 21,
    "start_time": "2025-03-02T10:41:31.026Z"
   },
   {
    "duration": 29,
    "start_time": "2025-03-02T10:41:31.048Z"
   },
   {
    "duration": 6,
    "start_time": "2025-03-02T10:41:31.079Z"
   },
   {
    "duration": 24,
    "start_time": "2025-03-02T10:41:31.086Z"
   },
   {
    "duration": 39,
    "start_time": "2025-03-02T10:41:31.111Z"
   },
   {
    "duration": 18230,
    "start_time": "2025-03-02T10:41:31.151Z"
   },
   {
    "duration": 4,
    "start_time": "2025-03-02T10:41:49.469Z"
   },
   {
    "duration": 7,
    "start_time": "2025-03-02T10:41:49.475Z"
   },
   {
    "duration": 7,
    "start_time": "2025-03-02T10:41:49.484Z"
   },
   {
    "duration": 17,
    "start_time": "2025-03-02T10:41:49.492Z"
   },
   {
    "duration": 23,
    "start_time": "2025-03-02T10:41:49.510Z"
   },
   {
    "duration": 2,
    "start_time": "2025-03-02T10:41:49.535Z"
   },
   {
    "duration": 6,
    "start_time": "2025-03-02T10:41:49.539Z"
   },
   {
    "duration": 7,
    "start_time": "2025-03-02T10:41:49.547Z"
   },
   {
    "duration": 8,
    "start_time": "2025-03-02T10:41:49.555Z"
   },
   {
    "duration": 16,
    "start_time": "2025-03-02T10:41:49.564Z"
   },
   {
    "duration": 5,
    "start_time": "2025-03-02T10:41:49.581Z"
   },
   {
    "duration": 4,
    "start_time": "2025-03-02T10:41:49.587Z"
   },
   {
    "duration": 6,
    "start_time": "2025-03-02T10:41:49.593Z"
   },
   {
    "duration": 12,
    "start_time": "2025-03-02T10:41:49.600Z"
   },
   {
    "duration": 1375,
    "start_time": "2025-03-02T10:41:49.613Z"
   },
   {
    "duration": 10,
    "start_time": "2025-03-02T10:41:50.990Z"
   },
   {
    "duration": 329,
    "start_time": "2025-03-02T10:41:51.002Z"
   }
  ],
  "kernelspec": {
   "display_name": "Python 3 (ipykernel)",
   "language": "python",
   "name": "python3"
  },
  "language_info": {
   "codemirror_mode": {
    "name": "ipython",
    "version": 3
   },
   "file_extension": ".py",
   "mimetype": "text/x-python",
   "name": "python",
   "nbconvert_exporter": "python",
   "pygments_lexer": "ipython3",
   "version": "3.9.21"
  },
  "toc": {
   "base_numbering": 1,
   "nav_menu": {},
   "number_sections": true,
   "sideBar": true,
   "skip_h1_title": true,
   "title_cell": "Содержание",
   "title_sidebar": "Contents",
   "toc_cell": true,
   "toc_position": {
    "height": "calc(100% - 180px)",
    "left": "10px",
    "top": "150px",
    "width": "165px"
   },
   "toc_section_display": true,
   "toc_window_display": true
  }
 },
 "nbformat": 4,
 "nbformat_minor": 4
}
